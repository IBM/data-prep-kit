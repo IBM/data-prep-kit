{
 "cells": [
  {
   "cell_type": "code",
   "execution_count": 1,
   "id": "e8906c79-484b-4f15-b4ad-d200aa4ba69e",
   "metadata": {},
   "outputs": [
    {
     "name": "stdout",
     "output_type": "stream",
     "text": [
      "Requirement already satisfied: data-prep-toolkit in ./venv/lib/python3.10/site-packages (0.2.1.dev0)\n",
      "Requirement already satisfied: pyarrow==16.1.0 in ./venv/lib/python3.10/site-packages (from data-prep-toolkit) (16.1.0)\n",
      "Requirement already satisfied: boto3==1.34.69 in ./venv/lib/python3.10/site-packages (from data-prep-toolkit) (1.34.69)\n",
      "Collecting argparse (from data-prep-toolkit)\n",
      "  Using cached argparse-1.4.0-py2.py3-none-any.whl.metadata (2.8 kB)\n",
      "Requirement already satisfied: mmh3 in ./venv/lib/python3.10/site-packages (from data-prep-toolkit) (4.1.0)\n",
      "Requirement already satisfied: botocore<1.35.0,>=1.34.69 in ./venv/lib/python3.10/site-packages (from boto3==1.34.69->data-prep-toolkit) (1.34.142)\n",
      "Requirement already satisfied: jmespath<2.0.0,>=0.7.1 in ./venv/lib/python3.10/site-packages (from boto3==1.34.69->data-prep-toolkit) (1.0.1)\n",
      "Requirement already satisfied: s3transfer<0.11.0,>=0.10.0 in ./venv/lib/python3.10/site-packages (from boto3==1.34.69->data-prep-toolkit) (0.10.2)\n",
      "Requirement already satisfied: numpy>=1.16.6 in ./venv/lib/python3.10/site-packages (from pyarrow==16.1.0->data-prep-toolkit) (2.0.0)\n",
      "Requirement already satisfied: python-dateutil<3.0.0,>=2.1 in ./venv/lib/python3.10/site-packages (from botocore<1.35.0,>=1.34.69->boto3==1.34.69->data-prep-toolkit) (2.9.0.post0)\n",
      "Requirement already satisfied: urllib3!=2.2.0,<3,>=1.25.4 in ./venv/lib/python3.10/site-packages (from botocore<1.35.0,>=1.34.69->boto3==1.34.69->data-prep-toolkit) (2.2.2)\n",
      "Requirement already satisfied: six>=1.5 in ./venv/lib/python3.10/site-packages (from python-dateutil<3.0.0,>=2.1->botocore<1.35.0,>=1.34.69->boto3==1.34.69->data-prep-toolkit) (1.16.0)\n",
      "Using cached argparse-1.4.0-py2.py3-none-any.whl (23 kB)\n",
      "Installing collected packages: argparse\n",
      "Successfully installed argparse-1.4.0\n",
      "Note: you may need to restart the kernel to use updated packages.\n"
     ]
    }
   ],
   "source": [
    "pip install data-prep-toolkit"
   ]
  },
  {
   "cell_type": "code",
   "execution_count": 2,
   "id": "7a881f0a-57c1-4f7b-842a-1ce89a12ffa5",
   "metadata": {},
   "outputs": [
    {
     "name": "stdout",
     "output_type": "stream",
     "text": [
      "Obtaining file:///Users/dawood/git/data-prep-kit/transforms/universal/noop/python\n",
      "  Installing build dependencies ... \u001b[?25ldone\n",
      "\u001b[?25h  Checking if build backend supports build_editable ... \u001b[?25ldone\n",
      "\u001b[?25h  Getting requirements to build editable ... \u001b[?25ldone\n",
      "\u001b[?25h  Preparing editable metadata (pyproject.toml) ... \u001b[?25ldone\n",
      "\u001b[?25hRequirement already satisfied: data-prep-toolkit==0.2.1.dev0 in ./venv/lib/python3.10/site-packages (from dpk_noop_transform_python==0.2.1.dev0) (0.2.1.dev0)\n",
      "Requirement already satisfied: pyarrow==16.1.0 in ./venv/lib/python3.10/site-packages (from data-prep-toolkit==0.2.1.dev0->dpk_noop_transform_python==0.2.1.dev0) (16.1.0)\n",
      "Requirement already satisfied: boto3==1.34.69 in ./venv/lib/python3.10/site-packages (from data-prep-toolkit==0.2.1.dev0->dpk_noop_transform_python==0.2.1.dev0) (1.34.69)\n",
      "Collecting argparse (from data-prep-toolkit==0.2.1.dev0->dpk_noop_transform_python==0.2.1.dev0)\n",
      "  Using cached argparse-1.4.0-py2.py3-none-any.whl.metadata (2.8 kB)\n",
      "Requirement already satisfied: mmh3 in ./venv/lib/python3.10/site-packages (from data-prep-toolkit==0.2.1.dev0->dpk_noop_transform_python==0.2.1.dev0) (4.1.0)\n",
      "Requirement already satisfied: botocore<1.35.0,>=1.34.69 in ./venv/lib/python3.10/site-packages (from boto3==1.34.69->data-prep-toolkit==0.2.1.dev0->dpk_noop_transform_python==0.2.1.dev0) (1.34.142)\n",
      "Requirement already satisfied: jmespath<2.0.0,>=0.7.1 in ./venv/lib/python3.10/site-packages (from boto3==1.34.69->data-prep-toolkit==0.2.1.dev0->dpk_noop_transform_python==0.2.1.dev0) (1.0.1)\n",
      "Requirement already satisfied: s3transfer<0.11.0,>=0.10.0 in ./venv/lib/python3.10/site-packages (from boto3==1.34.69->data-prep-toolkit==0.2.1.dev0->dpk_noop_transform_python==0.2.1.dev0) (0.10.2)\n",
      "Requirement already satisfied: numpy>=1.16.6 in ./venv/lib/python3.10/site-packages (from pyarrow==16.1.0->data-prep-toolkit==0.2.1.dev0->dpk_noop_transform_python==0.2.1.dev0) (2.0.0)\n",
      "Requirement already satisfied: python-dateutil<3.0.0,>=2.1 in ./venv/lib/python3.10/site-packages (from botocore<1.35.0,>=1.34.69->boto3==1.34.69->data-prep-toolkit==0.2.1.dev0->dpk_noop_transform_python==0.2.1.dev0) (2.9.0.post0)\n",
      "Requirement already satisfied: urllib3!=2.2.0,<3,>=1.25.4 in ./venv/lib/python3.10/site-packages (from botocore<1.35.0,>=1.34.69->boto3==1.34.69->data-prep-toolkit==0.2.1.dev0->dpk_noop_transform_python==0.2.1.dev0) (2.2.2)\n",
      "Requirement already satisfied: six>=1.5 in ./venv/lib/python3.10/site-packages (from python-dateutil<3.0.0,>=2.1->botocore<1.35.0,>=1.34.69->boto3==1.34.69->data-prep-toolkit==0.2.1.dev0->dpk_noop_transform_python==0.2.1.dev0) (1.16.0)\n",
      "Using cached argparse-1.4.0-py2.py3-none-any.whl (23 kB)\n",
      "Building wheels for collected packages: dpk_noop_transform_python\n",
      "  Building editable for dpk_noop_transform_python (pyproject.toml) ... \u001b[?25ldone\n",
      "\u001b[?25h  Created wheel for dpk_noop_transform_python: filename=dpk_noop_transform_python-0.2.1.dev0-0.editable-py3-none-any.whl size=2734 sha256=ee4d73de1ade4a5b63eb184e83d74e674553d5075b82c5b198b726941c32d268\n",
      "  Stored in directory: /private/var/folders/tc/l4tdn6zn1q57q5cw4vqzlgxr0000gn/T/pip-ephem-wheel-cache-tdxq7y7e/wheels/72/1b/fe/6ea18b3df6dd649a7a850b75631c005b84c512f504200302cd\n",
      "Successfully built dpk_noop_transform_python\n",
      "Installing collected packages: argparse, dpk_noop_transform_python\n",
      "  Attempting uninstall: dpk_noop_transform_python\n",
      "    Found existing installation: dpk_noop_transform_python 0.2.1.dev0\n",
      "    Uninstalling dpk_noop_transform_python-0.2.1.dev0:\n",
      "      Successfully uninstalled dpk_noop_transform_python-0.2.1.dev0\n",
      "Successfully installed argparse-1.4.0 dpk_noop_transform_python-0.2.1.dev0\n",
      "Note: you may need to restart the kernel to use updated packages.\n"
     ]
    }
   ],
   "source": [
    "pip install -e ."
   ]
  },
  {
   "cell_type": "code",
   "execution_count": 3,
   "id": "710db4a6-3b10-434d-a972-576047069d88",
   "metadata": {},
   "outputs": [],
   "source": [
    "import os\n",
    "import sys\n",
    "\n",
    "from data_processing.runtime.pure_python import PythonTransformLauncher\n",
    "from data_processing.utils import ParamsUtils\n",
    "from noop_transform_python import NOOPPythonTransformConfiguration"
   ]
  },
  {
   "cell_type": "code",
   "execution_count": 10,
   "id": "49d1d837-d5e6-4c47-8ab1-4391fb50b1df",
   "metadata": {},
   "outputs": [
    {
     "name": "stderr",
     "output_type": "stream",
     "text": [
      "09:40:23 INFO - noop parameters are : {'sleep_sec': 1, 'pwd': 'nothing'}\n",
      "09:40:23 INFO - noop parameters are : {'sleep_sec': 1, 'pwd': 'nothing'}\n",
      "09:40:23 INFO - noop parameters are : {'sleep_sec': 1, 'pwd': 'nothing'}\n",
      "09:40:23 INFO - noop parameters are : {'sleep_sec': 1, 'pwd': 'nothing'}\n",
      "09:40:23 INFO - noop parameters are : {'sleep_sec': 1, 'pwd': 'nothing'}\n",
      "09:40:23 INFO - noop parameters are : {'sleep_sec': 1, 'pwd': 'nothing'}\n",
      "09:40:23 INFO - noop parameters are : {'sleep_sec': 1, 'pwd': 'nothing'}\n",
      "09:40:23 INFO - noop parameters are : {'sleep_sec': 1, 'pwd': 'nothing'}\n",
      "09:40:23 INFO - pipeline id pipeline_id\n",
      "09:40:23 INFO - job details {'job category': 'preprocessing', 'job name': 'noop', 'job type': 'pure python', 'job id': 'job_id'}\n",
      "09:40:23 INFO - code location None\n",
      "09:40:23 INFO - data factory data_ is using local data access: input_folder - test-data/input output_folder - output\n",
      "09:40:23 INFO - data factory data_ max_files -1, n_sample -1\n",
      "09:40:23 INFO - data factory data_ Not using data sets, checkpointing False, max files -1, random samples -1, files to use ['.parquet'], files to checkpoint ['.parquet']\n",
      "09:40:23 INFO - orchestrator noop started at 2024-07-11 09:40:23\n",
      "09:40:23 INFO - Number of files is 1, source profile {'max_file_size': 0.0007181167602539062, 'min_file_size': 0.0007181167602539062, 'total_file_size': 0.0007181167602539062}\n",
      "09:40:23 INFO - Sleep for 1 seconds\n",
      "09:40:23 INFO - Sleep for 1 seconds\n",
      "09:40:23 INFO - Sleep for 1 seconds\n",
      "09:40:23 INFO - Sleep for 1 seconds\n",
      "09:40:23 INFO - Sleep for 1 seconds\n",
      "09:40:23 INFO - Sleep for 1 seconds\n",
      "09:40:23 INFO - Sleep for 1 seconds\n",
      "09:40:23 INFO - Sleep for 1 seconds\n",
      "09:40:23 INFO - Sleep for 1 seconds\n",
      "09:40:24 INFO - Sleep completed - continue\n",
      "09:40:24 INFO - Sleep completed - continue\n",
      "09:40:24 INFO - Sleep completed - continue\n",
      "09:40:24 INFO - Sleep completed - continue\n",
      "09:40:24 INFO - Sleep completed - continue\n",
      "09:40:24 INFO - Sleep completed - continue\n",
      "09:40:24 INFO - Sleep completed - continue\n",
      "09:40:24 INFO - Sleep completed - continue\n",
      "09:40:24 INFO - Sleep completed - continue\n",
      "09:40:24 INFO - Completed 1 files (100.0%) in 0.01715219815572103 min\n",
      "09:40:24 INFO - done flushing in 2.193450927734375e-05 sec\n",
      "09:40:24 INFO - Completed execution in 0.01727693478266398 min, execution result 0\n"
     ]
    },
    {
     "data": {
      "text/plain": [
       "0"
      ]
     },
     "execution_count": 10,
     "metadata": {},
     "output_type": "execute_result"
    }
   ],
   "source": [
    "sys.argv = ['python', \n",
    "    \"--data_local_config\", \"{'input_folder': 'test-data/input', 'output_folder': 'output'}\", \n",
    "    '--noop_sleep_sec', '1'\n",
    "]\n",
    "\n",
    "# create launcher\n",
    "launcher = PythonTransformLauncher(runtime_config=NOOPPythonTransformConfiguration())\n",
    "# Launch the runtime to process the input\n",
    "launcher.launch()"
   ]
  },
  {
   "cell_type": "code",
   "execution_count": null,
   "id": "9ea18665-b8a6-46ab-a470-555d6795b2be",
   "metadata": {},
   "outputs": [],
   "source": []
  },
  {
   "cell_type": "code",
   "execution_count": null,
   "id": "a46a9389-07bc-4ffa-956a-a413c0aaad04",
   "metadata": {},
   "outputs": [],
   "source": []
  }
 ],
 "metadata": {
  "kernelspec": {
   "display_name": "Python 3 (ipykernel)",
   "language": "python",
   "name": "python3"
  },
  "language_info": {
   "codemirror_mode": {
    "name": "ipython",
    "version": 3
   },
   "file_extension": ".py",
   "mimetype": "text/x-python",
   "name": "python",
   "nbconvert_exporter": "python",
   "pygments_lexer": "ipython3",
   "version": "3.10.11"
  }
 },
 "nbformat": 4,
 "nbformat_minor": 5
}
