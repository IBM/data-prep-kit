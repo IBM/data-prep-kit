{
 "cells": [
  {
   "cell_type": "markdown",
   "metadata": {},
   "source": [
    "# Load Processed Data into Vector Database\n",
    "\n",
    "This notebook loads output from data prep kit into Milvus\n",
    "\n",
    "**Step-4 in this workflow**\n",
    "\n",
    "![](../media/rag-overview-2.png)\n"
   ]
  },
  {
   "cell_type": "markdown",
   "metadata": {},
   "source": [
    "## Configuration"
   ]
  },
  {
   "cell_type": "code",
   "execution_count": 1,
   "metadata": {},
   "outputs": [],
   "source": [
    "class MyConfig:\n",
    "    pass\n",
    "MY_CONFIG = MyConfig()\n",
    "\n",
    "MY_CONFIG.PROCESSED_DATA_DIR = 'output/output_final'\n",
    "\n",
    "MY_CONFIG.DB_URI = './rag_1_dpk.db'  # For embedded instance\n",
    "#MY_CONFIG.DB_URI = 'http://localhost:19530'  # For Docker instance\n",
    "MY_CONFIG.COLLECTION_NAME = 'dpk_walmart_docs'"
   ]
  },
  {
   "cell_type": "markdown",
   "metadata": {},
   "source": [
    "## Step-: Load Parquet Data\n",
    "\n",
    "Load all  `.parquet` files in the given dir"
   ]
  },
  {
   "cell_type": "code",
   "execution_count": 2,
   "metadata": {},
   "outputs": [
    {
     "name": "stdout",
     "output_type": "stream",
     "text": [
      "Loading data from :  output/output_final\n",
      "Number of parquet files to read :  2\n",
      "\n",
      "Read file: 'output/output_final/Walmart-10K-Reports-Optimized_2023.parquet'.  number of rows = 666\n",
      "Read file: 'output/output_final/Walmart_2024.parquet'.  number of rows = 636\n",
      "\n",
      "Total number of rows = 1302\n"
     ]
    }
   ],
   "source": [
    "import pandas as pd\n",
    "import glob\n",
    "\n",
    "print ('Loading data from : ', MY_CONFIG.PROCESSED_DATA_DIR)\n",
    "\n",
    "# Get a list of all Parquet files in the directory\n",
    "parquet_files = glob.glob(f'{MY_CONFIG.PROCESSED_DATA_DIR}/*.parquet')\n",
    "print (\"Number of parquet files to read : \", len(parquet_files))\n",
    "print ()\n",
    "\n",
    "# Create an empty list to store the DataFrames\n",
    "dfs = []\n",
    "\n",
    "# Loop through each Parquet file and read it into a DataFrame\n",
    "for file in parquet_files:\n",
    "    df = pd.read_parquet(file)\n",
    "    print (f\"Read file: '{file}'.  number of rows = {df.shape[0]}\")\n",
    "    dfs.append(df)\n",
    "\n",
    "# Concatenate all DataFrames into a single DataFrame\n",
    "data_df = pd.concat(dfs, ignore_index=True)\n",
    "\n",
    "print (f\"\\nTotal number of rows = {data_df.shape[0]}\")"
   ]
  },
  {
   "cell_type": "code",
   "execution_count": 3,
   "metadata": {},
   "outputs": [
    {
     "name": "stdout",
     "output_type": "stream",
     "text": [
      "embedding length:  384\n",
      "<class 'pandas.core.frame.DataFrame'>\n",
      "RangeIndex: 1302 entries, 0 to 1301\n",
      "Data columns (total 29 columns):\n",
      " #   Column                        Non-Null Count  Dtype  \n",
      "---  ------                        --------------  -----  \n",
      " 0   filename                      1302 non-null   object \n",
      " 1   num_pages                     1302 non-null   int64  \n",
      " 2   num_tables                    1302 non-null   int64  \n",
      " 3   num_doc_elements              1302 non-null   int64  \n",
      " 4   document_id                   1302 non-null   object \n",
      " 5   ext                           1302 non-null   object \n",
      " 6   hash                          1302 non-null   object \n",
      " 7   size                          1302 non-null   int64  \n",
      " 8   date_acquired                 1302 non-null   object \n",
      " 9   pdf_convert_time              1302 non-null   float64\n",
      " 10  source_filename               1302 non-null   object \n",
      " 11  text                          1302 non-null   object \n",
      " 12  doc_jsonpath                  1302 non-null   object \n",
      " 13  page_number                   1302 non-null   int64  \n",
      " 14  bbox                          1302 non-null   object \n",
      " 15  int_id_column                 1302 non-null   int64  \n",
      " 16  hash_column                   1302 non-null   int64  \n",
      " 17  docq_total_words              1302 non-null   int64  \n",
      " 18  docq_mean_word_len            1302 non-null   float64\n",
      " 19  docq_symbol_to_word_ratio     1302 non-null   float64\n",
      " 20  docq_sentence_count           1302 non-null   int64  \n",
      " 21  docq_lorem_ipsum_ratio        1302 non-null   float64\n",
      " 22  docq_curly_bracket_ratio      1302 non-null   float64\n",
      " 23  docq_contain_bad_word         1302 non-null   bool   \n",
      " 24  docq_bullet_point_ratio       1302 non-null   float64\n",
      " 25  docq_ellipsis_line_ratio      1302 non-null   float64\n",
      " 26  docq_alphabet_word_ratio      1302 non-null   float64\n",
      " 27  docq_contain_common_en_words  1302 non-null   bool   \n",
      " 28  vector                        1302 non-null   object \n",
      "dtypes: bool(2), float64(8), int64(9), object(10)\n",
      "memory usage: 277.3+ KB\n",
      "None\n"
     ]
    },
    {
     "data": {
      "text/html": [
       "<div>\n",
       "<style scoped>\n",
       "    .dataframe tbody tr th:only-of-type {\n",
       "        vertical-align: middle;\n",
       "    }\n",
       "\n",
       "    .dataframe tbody tr th {\n",
       "        vertical-align: top;\n",
       "    }\n",
       "\n",
       "    .dataframe thead th {\n",
       "        text-align: right;\n",
       "    }\n",
       "</style>\n",
       "<table border=\"1\" class=\"dataframe\">\n",
       "  <thead>\n",
       "    <tr style=\"text-align: right;\">\n",
       "      <th></th>\n",
       "      <th>filename</th>\n",
       "      <th>num_pages</th>\n",
       "      <th>num_tables</th>\n",
       "      <th>num_doc_elements</th>\n",
       "      <th>document_id</th>\n",
       "      <th>ext</th>\n",
       "      <th>hash</th>\n",
       "      <th>size</th>\n",
       "      <th>date_acquired</th>\n",
       "      <th>pdf_convert_time</th>\n",
       "      <th>...</th>\n",
       "      <th>docq_symbol_to_word_ratio</th>\n",
       "      <th>docq_sentence_count</th>\n",
       "      <th>docq_lorem_ipsum_ratio</th>\n",
       "      <th>docq_curly_bracket_ratio</th>\n",
       "      <th>docq_contain_bad_word</th>\n",
       "      <th>docq_bullet_point_ratio</th>\n",
       "      <th>docq_ellipsis_line_ratio</th>\n",
       "      <th>docq_alphabet_word_ratio</th>\n",
       "      <th>docq_contain_common_en_words</th>\n",
       "      <th>vector</th>\n",
       "    </tr>\n",
       "  </thead>\n",
       "  <tbody>\n",
       "    <tr>\n",
       "      <th>0</th>\n",
       "      <td>Walmart-10K-Reports-Optimized_2023.pdf</td>\n",
       "      <td>100</td>\n",
       "      <td>81</td>\n",
       "      <td>1163</td>\n",
       "      <td>d626ab9b-0f53-446c-b55d-150fbbd93066</td>\n",
       "      <td>pdf</td>\n",
       "      <td>ea5544f26fe0831ec9befbf7aaf68b1b256df6c3ae18b8...</td>\n",
       "      <td>1159974</td>\n",
       "      <td>2024-08-29T00:43:21.059856</td>\n",
       "      <td>332.679391</td>\n",
       "      <td>...</td>\n",
       "      <td>0.0</td>\n",
       "      <td>3</td>\n",
       "      <td>0.0</td>\n",
       "      <td>0.0</td>\n",
       "      <td>False</td>\n",
       "      <td>0.0</td>\n",
       "      <td>0.0</td>\n",
       "      <td>1.000000</td>\n",
       "      <td>True</td>\n",
       "      <td>[-0.006206639, 0.010256912, 0.023658218, -0.02...</td>\n",
       "    </tr>\n",
       "    <tr>\n",
       "      <th>1</th>\n",
       "      <td>Walmart-10K-Reports-Optimized_2023.pdf</td>\n",
       "      <td>100</td>\n",
       "      <td>81</td>\n",
       "      <td>1163</td>\n",
       "      <td>d626ab9b-0f53-446c-b55d-150fbbd93066</td>\n",
       "      <td>pdf</td>\n",
       "      <td>ea5544f26fe0831ec9befbf7aaf68b1b256df6c3ae18b8...</td>\n",
       "      <td>1159974</td>\n",
       "      <td>2024-08-29T00:43:21.059856</td>\n",
       "      <td>332.679391</td>\n",
       "      <td>...</td>\n",
       "      <td>0.0</td>\n",
       "      <td>1</td>\n",
       "      <td>0.0</td>\n",
       "      <td>0.0</td>\n",
       "      <td>False</td>\n",
       "      <td>0.0</td>\n",
       "      <td>0.0</td>\n",
       "      <td>0.909091</td>\n",
       "      <td>True</td>\n",
       "      <td>[-0.0497427, 0.046492133, -0.02381167, 0.02798...</td>\n",
       "    </tr>\n",
       "    <tr>\n",
       "      <th>2</th>\n",
       "      <td>Walmart-10K-Reports-Optimized_2023.pdf</td>\n",
       "      <td>100</td>\n",
       "      <td>81</td>\n",
       "      <td>1163</td>\n",
       "      <td>d626ab9b-0f53-446c-b55d-150fbbd93066</td>\n",
       "      <td>pdf</td>\n",
       "      <td>ea5544f26fe0831ec9befbf7aaf68b1b256df6c3ae18b8...</td>\n",
       "      <td>1159974</td>\n",
       "      <td>2024-08-29T00:43:21.059856</td>\n",
       "      <td>332.679391</td>\n",
       "      <td>...</td>\n",
       "      <td>0.0</td>\n",
       "      <td>1</td>\n",
       "      <td>0.0</td>\n",
       "      <td>0.0</td>\n",
       "      <td>False</td>\n",
       "      <td>0.0</td>\n",
       "      <td>0.0</td>\n",
       "      <td>0.875000</td>\n",
       "      <td>False</td>\n",
       "      <td>[-0.03265641, -0.040947884, 0.017305722, 0.022...</td>\n",
       "    </tr>\n",
       "  </tbody>\n",
       "</table>\n",
       "<p>3 rows × 29 columns</p>\n",
       "</div>"
      ],
      "text/plain": [
       "                                 filename  num_pages  num_tables  \\\n",
       "0  Walmart-10K-Reports-Optimized_2023.pdf        100          81   \n",
       "1  Walmart-10K-Reports-Optimized_2023.pdf        100          81   \n",
       "2  Walmart-10K-Reports-Optimized_2023.pdf        100          81   \n",
       "\n",
       "   num_doc_elements                           document_id  ext  \\\n",
       "0              1163  d626ab9b-0f53-446c-b55d-150fbbd93066  pdf   \n",
       "1              1163  d626ab9b-0f53-446c-b55d-150fbbd93066  pdf   \n",
       "2              1163  d626ab9b-0f53-446c-b55d-150fbbd93066  pdf   \n",
       "\n",
       "                                                hash     size  \\\n",
       "0  ea5544f26fe0831ec9befbf7aaf68b1b256df6c3ae18b8...  1159974   \n",
       "1  ea5544f26fe0831ec9befbf7aaf68b1b256df6c3ae18b8...  1159974   \n",
       "2  ea5544f26fe0831ec9befbf7aaf68b1b256df6c3ae18b8...  1159974   \n",
       "\n",
       "                date_acquired  pdf_convert_time  ...  \\\n",
       "0  2024-08-29T00:43:21.059856        332.679391  ...   \n",
       "1  2024-08-29T00:43:21.059856        332.679391  ...   \n",
       "2  2024-08-29T00:43:21.059856        332.679391  ...   \n",
       "\n",
       "  docq_symbol_to_word_ratio docq_sentence_count docq_lorem_ipsum_ratio  \\\n",
       "0                       0.0                   3                    0.0   \n",
       "1                       0.0                   1                    0.0   \n",
       "2                       0.0                   1                    0.0   \n",
       "\n",
       "   docq_curly_bracket_ratio docq_contain_bad_word  docq_bullet_point_ratio  \\\n",
       "0                       0.0                 False                      0.0   \n",
       "1                       0.0                 False                      0.0   \n",
       "2                       0.0                 False                      0.0   \n",
       "\n",
       "   docq_ellipsis_line_ratio  docq_alphabet_word_ratio  \\\n",
       "0                       0.0                  1.000000   \n",
       "1                       0.0                  0.909091   \n",
       "2                       0.0                  0.875000   \n",
       "\n",
       "   docq_contain_common_en_words  \\\n",
       "0                          True   \n",
       "1                          True   \n",
       "2                         False   \n",
       "\n",
       "                                              vector  \n",
       "0  [-0.006206639, 0.010256912, 0.023658218, -0.02...  \n",
       "1  [-0.0497427, 0.046492133, -0.02381167, 0.02798...  \n",
       "2  [-0.03265641, -0.040947884, 0.017305722, 0.022...  \n",
       "\n",
       "[3 rows x 29 columns]"
      ]
     },
     "execution_count": 3,
     "metadata": {},
     "output_type": "execute_result"
    }
   ],
   "source": [
    "\n",
    "## Shape the data\n",
    "\n",
    "MY_CONFIG.EMBEDDING_LENGTH =  len(data_df.iloc[0]['embeddings'])\n",
    "print ('embedding length: ', MY_CONFIG.EMBEDDING_LENGTH)\n",
    "\n",
    "# rename 'embeddings' columns as 'vector' to match default schema\n",
    "# if 'vector' not in data_df.columns and 'embeddings' in data_df.columns:\n",
    "#     data_df = data_df.rename( columns= {'embeddings' : 'vector'})\n",
    "# if 'text' not in data_df.columns and 'contents' in data_df.columns:\n",
    "#     data_df = data_df.rename( columns= {'contents' : 'text'})\n",
    "\n",
    "data_df = data_df.rename( columns= {'embeddings' : 'vector', 'contents' : 'text'})\n",
    "\n",
    "print (data_df.info())\n",
    "data_df.head(3)"
   ]
  },
  {
   "cell_type": "markdown",
   "metadata": {},
   "source": [
    "## Connect to Vector Database\n",
    "\n",
    "Milvus can be embedded and easy to use.\n",
    "\n",
    "<span style=\"color:blue;\">Note: If you encounter an error about unable to load database, try this: </span>\n",
    "\n",
    "- <span style=\"color:blue;\">In **vscode** : **restart the kernel** of previous notebook. This will release the db.lock </span>\n",
    "- <span style=\"color:blue;\">In **Jupyter**: Do `File --> Close and Shutdown Notebook` of previous notebook. This will release the db.lock</span>\n",
    "- <span style=\"color:blue;\">Re-run this cell again</span>\n",
    "\n",
    "\n"
   ]
  },
  {
   "cell_type": "code",
   "execution_count": 4,
   "metadata": {},
   "outputs": [
    {
     "name": "stdout",
     "output_type": "stream",
     "text": [
      "✅ Connected to Milvus instance: ./rag_1_dpk.db\n"
     ]
    }
   ],
   "source": [
    "from pymilvus import MilvusClient\n",
    "\n",
    "milvus_client = MilvusClient(MY_CONFIG.DB_URI)\n",
    "\n",
    "print (\"✅ Connected to Milvus instance:\", MY_CONFIG.DB_URI)"
   ]
  },
  {
   "cell_type": "markdown",
   "metadata": {},
   "source": [
    "# Create A Collection\n",
    "\n"
   ]
  },
  {
   "cell_type": "code",
   "execution_count": 5,
   "metadata": {},
   "outputs": [
    {
     "name": "stdout",
     "output_type": "stream",
     "text": [
      "✅ Cleared collection : dpk_walmart_docs\n",
      "✅ Created collection : dpk_walmart_docs\n"
     ]
    }
   ],
   "source": [
    "# if we already have a collection, clear it first\n",
    "if milvus_client.has_collection(collection_name=MY_CONFIG.COLLECTION_NAME):\n",
    "    milvus_client.drop_collection(collection_name=MY_CONFIG.COLLECTION_NAME)\n",
    "    print ('✅ Cleared collection :', MY_CONFIG.COLLECTION_NAME)\n",
    "\n",
    "\n",
    "milvus_client.create_collection(\n",
    "    collection_name=MY_CONFIG.COLLECTION_NAME,\n",
    "    dimension=MY_CONFIG.EMBEDDING_LENGTH,\n",
    "    metric_type=\"IP\",  # Inner product distance\n",
    "    consistency_level=\"Strong\",  # Strong consistency level\n",
    "    auto_id=True\n",
    ")\n",
    "print (\"✅ Created collection :\", MY_CONFIG.COLLECTION_NAME)\n"
   ]
  },
  {
   "cell_type": "code",
   "execution_count": 6,
   "metadata": {},
   "outputs": [
    {
     "name": "stdout",
     "output_type": "stream",
     "text": [
      "inserted # rows 1302\n"
     ]
    },
    {
     "data": {
      "text/plain": [
       "{'row_count': 1302}"
      ]
     },
     "execution_count": 6,
     "metadata": {},
     "output_type": "execute_result"
    }
   ],
   "source": [
    "res = milvus_client.insert(collection_name=MY_CONFIG.COLLECTION_NAME, data=data_df.to_dict('records'))\n",
    "\n",
    "print('inserted # rows', res['insert_count'])\n",
    "\n",
    "milvus_client.get_collection_stats(MY_CONFIG.COLLECTION_NAME)"
   ]
  },
  {
   "cell_type": "markdown",
   "metadata": {},
   "source": [
    "## Close DB Connection\n",
    "\n",
    "Close the connection so the lock files are relinquished and other notebooks can access the db"
   ]
  },
  {
   "cell_type": "code",
   "execution_count": 7,
   "metadata": {},
   "outputs": [
    {
     "name": "stdout",
     "output_type": "stream",
     "text": [
      "✅ SUCCESS\n"
     ]
    }
   ],
   "source": [
    "milvus_client.close()\n",
    "\n",
    "print (\"✅ SUCCESS\")\n"
   ]
  },
  {
   "cell_type": "markdown",
   "metadata": {},
   "source": [
    "## Test your data by doing a Vector Search\n",
    "\n",
    "See notebook [vector_search.ipynb](vector_search.ipynb)"
   ]
  }
 ],
 "metadata": {
  "kernelspec": {
   "display_name": "Python 3 (ipykernel)",
   "language": "python",
   "name": "python3"
  },
  "language_info": {
   "codemirror_mode": {
    "name": "ipython",
    "version": 3
   },
   "file_extension": ".py",
   "mimetype": "text/x-python",
   "name": "python",
   "nbconvert_exporter": "python",
   "pygments_lexer": "ipython3",
   "version": "3.11.9"
  }
 },
 "nbformat": 4,
 "nbformat_minor": 4
}
