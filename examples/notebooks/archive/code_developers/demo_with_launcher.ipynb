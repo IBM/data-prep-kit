{
 "cells": [
  {
   "cell_type": "markdown",
   "id": "841e533d-ebb3-406d-9da7-b19e2c5f5866",
   "metadata": {},
   "source": [
    "<div style=\"background-color: #04D7FD; padding: 20px; text-align: left;\">\n",
    "    <h1 style=\"color: #000000; font-size: 36px; margin: 0;\">Demo: Data Prep Kit</h1>\n",
    "    \n",
    "</div>\n"
   ]
  },
  {
   "cell_type": "markdown",
   "id": "053ecf08-5f62-4b99-9347-8a0955843d21",
   "metadata": {},
   "source": [
    "## Overview\n",
    "Welcome to the demo notebook! Inside, you will find an end-to-end sample data pipeline designed for processing code datasets, beginning with GitHub repositories (.zip files) and culminating in processed data. This notebook provides the following transforms for processing the data. \n",
    "\n",
    "- [Ingest2parquet](#item1)\n",
    "- [Exact Dedup](#item2)\n",
    "- [Doc_ID generation](#item3)\n",
    "- [Fuzzy Dedup](#item4)\n",
    "- [Programming Language Select](#item5)\n",
    "- [Code quality](#item6)\n",
    "- [Filtering](#item7)\n",
    "- [Tokenization](#item8)\n",
    "\n",
    "### Getting started\n",
    "\n",
    "If you want to try this pipeline on your data, you need to download your github repositories, as .zip files. Please refer to steps below for the same. One can also try it on sample data by downloading a few repos of interest.\n",
    "\n",
    "Here's how to download a GitHub repository in ZIP format:\n",
    "\n",
    "1. Go to the desired repository on GitHub.\n",
    "2. Click the \"Code\" button near the top right corner of the repository.\n",
    "3. Click the \"Download ZIP\" button.\n",
    "\n",
    "This will download a ZIP archive of the entire repository to your computer.\n",
    "\n",
    "Follow these steps and download some repositories from github into a folder. Now your data is ready.\n",
    "\n",
    "The folder containing this data would serve as the input to the pipeline. Assign the path of this data folder to the variable `zip_input_folder` in the below cell. \n"
   ]
  },
  {
   "cell_type": "markdown",
   "id": "bd5d976e-cb4c-4469-af39-4b7ea507e9d8",
   "metadata": {},
   "source": [
    "### Import Common python modules"
   ]
  },
  {
   "cell_type": "code",
   "execution_count": 1,
   "id": "66178913-42b8-426b-a2e9-9587268fd05b",
   "metadata": {},
   "outputs": [],
   "source": [
    "\n",
    "import os\n",
    "import sys\n",
    "\n",
    "from data_processing_ray.runtime.ray import RayTransformLauncher\n",
    "from data_processing.utils import ParamsUtils"
   ]
  },
  {
   "cell_type": "markdown",
   "id": "72510ae6-48b0-4b88-9e13-a623281c3a63",
   "metadata": {},
   "source": [
    "### Set input/output path variables for the pipeline"
   ]
  },
  {
   "cell_type": "code",
   "execution_count": 2,
   "id": "60ac8bee-0960-4309-b225-d7a211b14262",
   "metadata": {},
   "outputs": [
    {
     "name": "stdout",
     "output_type": "stream",
     "text": [
      "NO INPUT DATA\n",
      "Please set `zip_input_folder` variable to path containing data\n"
     ]
    }
   ],
   "source": [
    "# Example\n",
    "# We can set input paths here\n",
    "zip_input_folder = \"input_data\"\n",
    "\n",
    "if not os.path.exists(zip_input_folder):\n",
    "    print (\"NO INPUT DATA\")\n",
    "    print (\"Please set `zip_input_folder` variable to path containing data\")\n",
    "\n",
    "# make sure the paths are correct\n",
    "data_base_path = \"test-data\"\n",
    "\n",
    "parquet_data_output = os.path.join(data_base_path, \"parquet_input\")\n",
    "\n",
    "ededup_out =  os.path.join(data_base_path, \"ededup_out\")\n",
    "\n",
    "doc_id_out =  os.path.join(data_base_path, \"doc_id_out\")\n",
    "fdedup_out = os.path.join(data_base_path, \"fdedup_out\")\n",
    "\n",
    "lang_out =  os.path.join(data_base_path,\"lang_out\")\n",
    "cq_out = os.path.join(data_base_path,\"cq_out\")\n",
    "\n",
    "filter_out = os.path.join(data_base_path ,\"filter_out\")\n",
    "tokensization_out = os.path.join(data_base_path ,\"tokenization_out\")\n",
    "\n"
   ]
  },
  {
   "cell_type": "markdown",
   "id": "2449e5c7-078c-4ad6-a2f6-21d39d4da3fb",
   "metadata": {},
   "source": [
    "## <span style=\"color: green\"> 1. Convert data to parquet using ingest2parquet [<-](#top)<a class=\"anchor\" id=\"item1\"></a>\n",
    "_zip_ to _parquet_ </span>\n",
    "\n",
    "Raw code data files which are in zip format are converted to parquet files, where each row of the parquet file corresponds to a separate code file. Apart from the contents of the code file, every row also contains a unique document id, file URL, name of the repository, source of the data, date of acquisition and license of the repository. For every code file, a language field is also added, which is detected using the filename\n",
    "extensions.\n",
    "\n",
    "\n"
   ]
  },
  {
   "cell_type": "markdown",
   "id": "c0c574c4-9dc4-4dab-9ad6-b5338207e67a",
   "metadata": {},
   "source": [
    "### Set Input/output Folder"
   ]
  },
  {
   "cell_type": "code",
   "execution_count": 4,
   "id": "482605b2-d814-456d-9195-49a2ec454ef0",
   "metadata": {},
   "outputs": [],
   "source": [
    "# For this stage input folder contains the zip files, each zip file contains a github repo.\n",
    "\n",
    "input_folder = zip_input_folder\n",
    "output_folder =  parquet_data_output"
   ]
  },
  {
   "cell_type": "markdown",
   "id": "9bb15f02-ab5c-4525-a536-cfa1fd2ba70b",
   "metadata": {},
   "source": [
    "### Execute "
   ]
  },
  {
   "cell_type": "code",
   "execution_count": null,
   "id": "b0cd8ebd-bf71-42d6-a397-8df0c7b66a26",
   "metadata": {},
   "outputs": [],
   "source": [
    "import ast\n",
    "import os\n",
    "import sys\n",
    "\n",
    "from code2parquet_transform import (\n",
    "    detect_programming_lang_cli_key,\n",
    "    supported_langs_file_cli_key,\n",
    ")\n",
    "from code2parquet_transform_ray import CodeToParquetRayConfiguration\n",
    "from data_processing.utils import GB, ParamsUtils\n",
    "from data_processing_ray.runtime.ray import RayTransformLauncher\n",
    "\n",
    "\n",
    "# create parameters\n",
    "supported_languages_file = os.path.abspath(\n",
    "    \"../../../transforms/code/code2parquet/python/test-data/languages/lang_extensions.json\"\n",
    ")\n",
    "\n",
    "local_conf = {\n",
    "    \"input_folder\": input_folder,\n",
    "    \"output_folder\": output_folder,\n",
    "}\n",
    "worker_options = {\"num_cpus\": 0.8, \"memory\": 2 * GB}\n",
    "code_location = {\"github\": \"github\", \"commit_hash\": \"12345\", \"path\": \"path\"}\n",
    "ingest_config = {\n",
    "    supported_langs_file_cli_key: supported_languages_file,\n",
    "    detect_programming_lang_cli_key: True,\n",
    "}\n",
    "\n",
    "params = {\n",
    "    # where to run\n",
    "    \"run_locally\": True,\n",
    "    # Data access. Only required parameters are specified\n",
    "    \"data_local_config\": ParamsUtils.convert_to_ast(local_conf),\n",
    "    \"data_files_to_use\": ast.literal_eval(\"['.zip']\"),\n",
    "    # orchestrator\n",
    "    \"runtime_worker_options\": ParamsUtils.convert_to_ast(worker_options),\n",
    "    \"runtime_num_workers\": 3,\n",
    "    \"runtime_pipeline_id\": \"pipeline_id\",\n",
    "    \"runtime_job_id\": \"job_id\",\n",
    "    \"runtime_creation_delay\": 0,\n",
    "    \"runtime_code_location\": ParamsUtils.convert_to_ast(code_location),\n",
    "}\n",
    "\n",
    "\n",
    "sys.argv = ParamsUtils.dict_to_req(d=(params | ingest_config))\n",
    "# create launcher\n",
    "launcher = RayTransformLauncher(CodeToParquetRayConfiguration())\n",
    "# launch\n",
    "launcher.launch()"
   ]
  },
  {
   "cell_type": "markdown",
   "id": "4692975c-49ff-41ae-810e-0f5bc0bbdc53",
   "metadata": {},
   "source": [
    "##  <span style=\"color: green\">   2. Exact Dedup [<-](#top)<a class=\"anchor\" id=\"item2\"></a> </span>\n",
    "\n",
    "Remove documents having identical code to remove bias in the training data. On the content of each document, a SHA256 hash is computed,\n",
    "followed by de-duplication of record having identical hashes."
   ]
  },
  {
   "cell_type": "markdown",
   "id": "5acfd3a2-a236-4143-bcfc-15804f1da7fe",
   "metadata": {},
   "source": [
    "### Set Input/output Folder"
   ]
  },
  {
   "cell_type": "code",
   "execution_count": 5,
   "id": "58a0e1f6-ff53-40aa-96b1-096ade4bd1c0",
   "metadata": {},
   "outputs": [
    {
     "name": "stdout",
     "output_type": "stream",
     "text": [
      "test-data/parquet_input\n",
      "test-data/ededup_out\n"
     ]
    }
   ],
   "source": [
    "## For this stage the input is the folder containing parquet data which is output from the ingest2parquet tool\n",
    "\n",
    "input_folder = parquet_data_output\n",
    "output_folder = ededup_out\n",
    "\n",
    "print(input_folder)\n",
    "print(output_folder)"
   ]
  },
  {
   "cell_type": "markdown",
   "id": "3661cb37-39c7-4b09-a784-925bfa9eaf1e",
   "metadata": {},
   "source": [
    "### Execute "
   ]
  },
  {
   "cell_type": "code",
   "execution_count": 6,
   "id": "a624b2b2-faad-4325-ac7d-53a840f564ef",
   "metadata": {
    "scrolled": true
   },
   "outputs": [
    {
     "name": "stderr",
     "output_type": "stream",
     "text": [
      "23:31:45 INFO - Running locally\n",
      "23:31:45 INFO - exact dedup params are {'hash_cpu': 0.5, 'num_hashes': 2, 'doc_column': 'contents'}\n",
      "23:31:45 INFO - data factory data_ is using local data access: input_folder - test-data/parquet_input output_folder - test-data/ededup_out\n",
      "23:31:45 INFO - data factory data_ max_files -1, n_sample -1\n",
      "23:31:45 INFO - data factory data_ Not using data sets, checkpointing False, max files -1, random samples -1, files to use ['.parquet'], files to checkpoint ['.parquet']\n",
      "23:31:45 INFO - pipeline id pipeline_id\n",
      "23:31:45 INFO - code location None\n",
      "23:31:45 INFO - number of workers 3 worker options {'num_cpus': 0.8}\n",
      "23:31:45 INFO - actor creation delay 0\n",
      "23:31:45 INFO - job details {'job category': 'preprocessing', 'job name': 'ededup', 'job type': 'ray', 'job id': 'job_id'}\n",
      "2024-06-19 23:31:47,958\tINFO worker.py:1715 -- Started a local Ray instance. View the dashboard at \u001b[1m\u001b[32m127.0.0.1:8265 \u001b[39m\u001b[22m\n",
      "\u001b[36m(orchestrate pid=52070)\u001b[0m 23:31:48 INFO - orchestrator started at 2024-06-19 23:31:48\n",
      "\u001b[36m(orchestrate pid=52070)\u001b[0m 23:31:48 INFO - Number of files is 5, source profile {'max_file_size': 7.679162979125977, 'min_file_size': 0.010193824768066406, 'total_file_size': 8.804475784301758}\n",
      "\u001b[36m(orchestrate pid=52070)\u001b[0m 23:31:48 INFO - Cluster resources: {'cpus': 16, 'gpus': 0, 'memory': 30.716969300061464, 'object_store': 2.0}\n",
      "\u001b[36m(orchestrate pid=52070)\u001b[0m 23:31:48 INFO - Number of workers - 3 with {'num_cpus': 0.8} each\n",
      "\u001b[36m(orchestrate pid=52070)\u001b[0m 23:31:49 INFO - Completed 1 files in 0.011938178539276123 min\n",
      "\u001b[36m(orchestrate pid=52070)\u001b[0m 23:31:49 INFO - Completed 2 files in 0.011993948618570964 min\n",
      "\u001b[36m(orchestrate pid=52070)\u001b[0m 23:31:49 INFO - Completed 2 files (40.0%)  in 0.011996277173360189 min. Waiting for completion\n",
      "\u001b[36m(orchestrate pid=52070)\u001b[0m 23:31:49 INFO - Completed processing 5 files in 0.01667089859644572 min\n",
      "\u001b[36m(orchestrate pid=52070)\u001b[0m 23:31:49 INFO - done flushing in 0.0008389949798583984 sec\n",
      "23:31:59 INFO - Completed execution in 0.2331868847211202 min, execution result 0\n"
     ]
    },
    {
     "data": {
      "text/plain": [
       "0"
      ]
     },
     "execution_count": 6,
     "metadata": {},
     "output_type": "execute_result"
    }
   ],
   "source": [
    "# Import ededup transform configuration\n",
    "from ededup_transform_ray import EdedupRayTransformConfiguration\n",
    "\n",
    "\n",
    "# Prepare the commandline params\n",
    "local_conf = {\n",
    "    \"input_folder\": input_folder,\n",
    "    \"output_folder\": output_folder,\n",
    "}\n",
    "worker_options = {\"num_cpus\": 0.8}\n",
    "params = {\n",
    "    # where to run\n",
    "    \"run_locally\": True,\n",
    "    # Data access. Only required parameters are specified\n",
    "    \"data_local_config\": ParamsUtils.convert_to_ast(local_conf),\n",
    "    # orchestrator\n",
    "    \"runtime_worker_options\": ParamsUtils.convert_to_ast(worker_options),\n",
    "    \"runtime_num_workers\": 3,\n",
    "    # ededup parameters\n",
    "    \"ededup_hash_cpu\": 0.5,\n",
    "    \"ededup_num_hashes\": 2,\n",
    "    \"ededup_doc_column\": \"contents\",\n",
    "}\n",
    "\n",
    "# Pass the commandline params\n",
    "sys.argv = ParamsUtils.dict_to_req(d=params)\n",
    "\n",
    "# create launcher\n",
    "ededup_launcher = RayTransformLauncher(EdedupRayTransformConfiguration())\n",
    "# launch\n",
    "ededup_launcher.launch()"
   ]
  },
  {
   "cell_type": "markdown",
   "id": "f15f4d00-33bb-4d9a-9f34-4d7f3ee0b7bc",
   "metadata": {},
   "source": [
    "## <span style=\"color: green\">  3. DOC ID generation [<-](#top)<a class=\"anchor\" id=\"item3\"></a> </span>\n",
    "\n",
    "This transform annotates documents with document \"ids\". It supports the following transformations of the original data:\n",
    "\n",
    " - Adding document hash: this enables the addition of a document hash-based id to the data. The hash is calculated with `hashlib.sha256(doc.encode(\"utf-8\")).hexdigest()`. To enable this annotation, set hash_column to the name of the column, where you want to store it.\n",
    " - Adding integer document id: this allows the addition of an integer document id to the data that is unique across all rows in all tables provided to the transform() method. To enable this annotation, set int_id_column to the name of the column, where you want to store it. **This is a pre-requisite for fuzzy dedup** in the pipeline."
   ]
  },
  {
   "cell_type": "code",
   "execution_count": 7,
   "id": "e6f62394-fbde-495c-bbbb-83161b006bed",
   "metadata": {},
   "outputs": [
    {
     "name": "stdout",
     "output_type": "stream",
     "text": [
      "test-data/ededup_out\n",
      "test-data/doc_id_out\n"
     ]
    }
   ],
   "source": [
    "# Input for this stage is the output of exact dedeup component\n",
    "# output of this component makes it possible for fdedup component to run on data.\n",
    "\n",
    "input_folder = ededup_out\n",
    "output_folder = doc_id_out\n",
    "\n",
    "print(input_folder)\n",
    "print(output_folder)\n"
   ]
  },
  {
   "cell_type": "code",
   "execution_count": 8,
   "id": "a6daf36d-686c-4e0a-aabf-ce55f999bb2d",
   "metadata": {},
   "outputs": [
    {
     "name": "stderr",
     "output_type": "stream",
     "text": [
      "23:32:01 INFO - Running locally\n",
      "23:32:01 INFO - Doc id parameters are : {'doc_column': 'contents', 'hash_column': 'hash_column', 'int_column': 'int_id_column'}\n",
      "23:32:01 INFO - data factory data_ is using local data access: input_folder - test-data/ededup_out output_folder - test-data/doc_id_out\n",
      "23:32:01 INFO - data factory data_ max_files -1, n_sample -1\n",
      "23:32:01 INFO - data factory data_ Not using data sets, checkpointing False, max files -1, random samples -1, files to use ['.parquet'], files to checkpoint ['.parquet']\n",
      "23:32:01 INFO - pipeline id pipeline_id\n",
      "23:32:01 INFO - code location None\n",
      "23:32:01 INFO - number of workers 3 worker options {'num_cpus': 0.8}\n",
      "23:32:01 INFO - actor creation delay 0\n",
      "23:32:01 INFO - job details {'job category': 'preprocessing', 'job name': 'doc_id', 'job type': 'ray', 'job id': 'job_id'}\n",
      "2024-06-19 23:32:03,187\tINFO worker.py:1715 -- Started a local Ray instance. View the dashboard at \u001b[1m\u001b[32m127.0.0.1:8265 \u001b[39m\u001b[22m\n",
      "\u001b[36m(orchestrate pid=52123)\u001b[0m 23:32:03 INFO - orchestrator started at 2024-06-19 23:32:03\n",
      "\u001b[36m(orchestrate pid=52123)\u001b[0m 23:32:03 INFO - Number of files is 5, source profile {'max_file_size': 7.648163795471191, 'min_file_size': 0.004547119140625, 'total_file_size': 8.755243301391602}\n",
      "\u001b[36m(orchestrate pid=52123)\u001b[0m 23:32:03 INFO - Cluster resources: {'cpus': 16, 'gpus': 0, 'memory': 31.14116516150534, 'object_store': 2.0}\n",
      "\u001b[36m(orchestrate pid=52123)\u001b[0m 23:32:03 INFO - Number of workers - 3 with {'num_cpus': 0.8} each\n",
      "\u001b[36m(orchestrate pid=52123)\u001b[0m 23:32:04 INFO - Completed 1 files in 0.012701082229614257 min\n",
      "\u001b[36m(orchestrate pid=52123)\u001b[0m 23:32:04 INFO - Completed 2 files in 0.012730999787648519 min\n",
      "\u001b[36m(orchestrate pid=52123)\u001b[0m 23:32:04 INFO - Completed 2 files (40.0%)  in 0.012731997172037761 min. Waiting for completion\n",
      "\u001b[36m(orchestrate pid=52123)\u001b[0m 23:32:04 INFO - Completed processing 5 files in 0.013421499729156494 min\n",
      "\u001b[36m(orchestrate pid=52123)\u001b[0m 23:32:04 INFO - done flushing in 0.0007081031799316406 sec\n",
      "23:32:14 INFO - Completed execution in 0.22250189781188964 min, execution result 0\n"
     ]
    },
    {
     "data": {
      "text/plain": [
       "0"
      ]
     },
     "execution_count": 8,
     "metadata": {},
     "output_type": "execute_result"
    }
   ],
   "source": [
    "from doc_id_transform_ray import DocIDRayTransformConfiguration\n",
    "local_conf = {\n",
    "    \"input_folder\": input_folder,\n",
    "    \"output_folder\": output_folder,\n",
    "}\n",
    "worker_options = {\"num_cpus\": 0.8}\n",
    "params = {\n",
    "    # where to run\n",
    "    \"run_locally\": True,\n",
    "    # Data access. Only required parameters are specified\n",
    "    \"data_local_config\": ParamsUtils.convert_to_ast(local_conf),\n",
    "    # orchestrator\n",
    "    \"runtime_worker_options\": ParamsUtils.convert_to_ast(worker_options),\n",
    "    \"runtime_num_workers\": 3,\n",
    "    # doc id configuration\n",
    "    \"doc_id_doc_column\": \"contents\",\n",
    "    \"doc_id_hash_column\": \"hash_column\",\n",
    "    \"doc_id_int_column\": \"int_id_column\",\n",
    "}\n",
    "sys.argv = ParamsUtils.dict_to_req(d=params)\n",
    "\n",
    "# launch\n",
    "\n",
    "launcher = RayTransformLauncher(DocIDRayTransformConfiguration())\n",
    "launcher.launch()"
   ]
  },
  {
   "cell_type": "markdown",
   "id": "85309751-8556-41c6-ac32-84acc941bc8d",
   "metadata": {},
   "source": [
    "## 4. <span style=\"color: green\">  Fuzzy Dedup [<-](#top)<a class=\"anchor\" id=\"item4\"></a> </span>\n",
    "\n",
    "Post exact deduplication, fuzzy deduplication is applied with\n",
    "the goal of removing code files that may have slight variations and thereby unbiasing\n",
    "the data further. Small variations are quite commonly seen in code data in the form\n",
    "of variations in the values of variables, addittion of logging statements etc. Find near-\n",
    "duplicate."
   ]
  },
  {
   "cell_type": "markdown",
   "id": "fcf574a3-b287-419c-9c86-07b828b41ca6",
   "metadata": {},
   "source": [
    "### Set Input/output Folder"
   ]
  },
  {
   "cell_type": "code",
   "execution_count": 9,
   "id": "9e431c8c-c7c7-48de-ba5f-2c4649c35399",
   "metadata": {},
   "outputs": [
    {
     "name": "stdout",
     "output_type": "stream",
     "text": [
      "test-data/doc_id_out\n",
      "test-data/fdedup_out\n"
     ]
    }
   ],
   "source": [
    "## Input to this component is the output of doc_id generator component. \n",
    "\n",
    "input_folder = doc_id_out\n",
    "output_folder = fdedup_out\n",
    "\n",
    "print(input_folder)\n",
    "print(output_folder)"
   ]
  },
  {
   "cell_type": "markdown",
   "id": "f4c82a8f-b513-4fe5-b172-d41b104b54f3",
   "metadata": {},
   "source": [
    "### Execute "
   ]
  },
  {
   "cell_type": "code",
   "execution_count": 10,
   "id": "3864ff77-e9a8-48f7-973b-c3b3aef1a94f",
   "metadata": {},
   "outputs": [
    {
     "name": "stderr",
     "output_type": "stream",
     "text": [
      "23:32:16 INFO - Running locally\n",
      "23:32:16 INFO - fuzzy dedup params are {'doc_column': 'contents', 'id_column': 'int_id_column', 'cluster_column': 'hash_column', 'bucket_cpu': 0.5, 'mhash_cpu': 0.5, 'doc_cpu': 0.5, 'num_doc_actors': 2, 'num_minhash_actors': 1, 'num_bucket_actors': 1, 'num_preprocessors': 2, 'num_permutations': 64, 'threshold': 0.8, 'shingles_size': 5, 'delimiters': ' ', 'snapshot_delay': 1, 'use_bucket_snapshot': False, 'use_doc_snapshot': False, 'random_delay_limit': 10, 'worker_options': {'num_cpus': 0.8}}\n",
      "23:32:16 INFO - data factory data_ is using local data access: input_folder - test-data/doc_id_out output_folder - test-data/fdedup_out\n",
      "23:32:16 INFO - data factory data_ max_files -1, n_sample -1\n",
      "23:32:16 INFO - data factory data_ Not using data sets, checkpointing False, max files -1, random samples -1, files to use ['.parquet'], files to checkpoint ['.parquet']\n",
      "23:32:16 INFO - pipeline id pipeline_id\n",
      "23:32:16 INFO - code location None\n",
      "23:32:16 INFO - number of workers 3 worker options {'num_cpus': 0.8}\n",
      "23:32:16 INFO - actor creation delay 0\n",
      "23:32:16 INFO - job details {'job category': 'preprocessing', 'job name': 'fdedup', 'job type': 'ray', 'job id': 'job_id'}\n",
      "2024-06-19 23:32:18,484\tINFO worker.py:1715 -- Started a local Ray instance. View the dashboard at \u001b[1m\u001b[32m127.0.0.1:8265 \u001b[39m\u001b[22m\n",
      "\u001b[36m(orchestrate pid=52167)\u001b[0m 23:32:19 INFO - orchestrator started at 2024-06-19 23:32:19\n",
      "\u001b[36m(orchestrate pid=52167)\u001b[0m 23:32:19 INFO - Number of files is 5, source profile {'max_file_size': 7.7561540603637695, 'min_file_size': 0.005639076232910156, 'total_file_size': 8.945060729980469}\n",
      "\u001b[36m(orchestrate pid=52167)\u001b[0m 23:32:19 INFO - Cluster resources: {'cpus': 16, 'gpus': 0, 'memory': 31.387203980237246, 'object_store': 2.0}\n",
      "\u001b[36m(orchestrate pid=52167)\u001b[0m 23:32:19 INFO - Number of workers - 3 with {'num_cpus': 0.8} each\n",
      "\u001b[36m(orchestrate pid=52167)\u001b[0m 23:32:19 INFO - starting run from the beginning\n",
      "\u001b[36m(orchestrate pid=52167)\u001b[0m 23:32:19 INFO - continuing from the very beginning\n",
      "\u001b[36m(orchestrate pid=52167)\u001b[0m 23:32:19 INFO - Fuzzy: num buckets 5, bucket length 11\n",
      "\u001b[36m(orchestrate pid=52167)\u001b[0m 23:32:19 INFO - created 1 bucket actors\n",
      "\u001b[36m(orchestrate pid=52167)\u001b[0m 23:32:19 INFO - created 1 minhash actors\n",
      "\u001b[36m(orchestrate pid=52167)\u001b[0m 23:32:19 INFO - Table preprocessing uses 2 readers\n",
      "\u001b[36m(orchestrate pid=52167)\u001b[0m 23:32:19 INFO - created 2 table processor actors\n",
      "\u001b[36m(orchestrate pid=52167)\u001b[0m 23:32:25 INFO - Completed 1 files in 0.09585129817326864 min\n",
      "\u001b[36m(orchestrate pid=52167)\u001b[0m 23:32:26 INFO - Completed 2 files in 0.11462793350219727 min\n",
      "\u001b[36m(orchestrate pid=52167)\u001b[0m 23:32:29 INFO - Completed 3 files in 0.1648825526237488 min\n",
      "\u001b[36m(orchestrate pid=52167)\u001b[0m 23:32:29 INFO - Completed 3 files (60.0%)  in 0.16489086548487344 min. Waiting for completion\n",
      "\u001b[36m(orchestrate pid=52167)\u001b[0m 23:32:35 INFO - Completed processing 5 files in 0.2676188151041667 min\n",
      "\u001b[36m(orchestrate pid=52167)\u001b[0m 23:32:35 INFO - creating minhash snapshots\n",
      "\u001b[36m(orchestrate pid=52167)\u001b[0m 23:32:36 INFO - minhash snapshots created\n",
      "\u001b[36m(orchestrate pid=52167)\u001b[0m 23:32:36 INFO - creating bucket snapshots\n",
      "\u001b[36m(orchestrate pid=52167)\u001b[0m 23:32:37 INFO - bucket snapshots created\n",
      "\u001b[36m(orchestrate pid=52167)\u001b[0m 23:32:37 INFO - created 2 document actors\n",
      "\u001b[36m(orchestrate pid=52167)\u001b[0m 23:32:37 INFO - created 2 bucket processor actors\n",
      "\u001b[36m(orchestrate pid=52167)\u001b[0m 23:32:37 INFO - created bucket processor invoker\n",
      "\u001b[36m(orchestrate pid=52167)\u001b[0m 23:32:37 INFO - added invoker to bucket collectors\n",
      "\u001b[36m(BucketsHash pid=52174)\u001b[0m 23:32:37 INFO - processing buckets 0 long, 13235 short\n",
      "\u001b[36m(BucketsHash pid=52174)\u001b[0m 23:32:37 INFO - Done submitting long buckets\n",
      "\u001b[36m(orchestrate pid=52167)\u001b[0m 23:32:38 INFO - Done processing buckets in 0.01374209721883138 min\n",
      "\u001b[36m(orchestrate pid=52167)\u001b[0m 23:32:38 INFO - creating document snapshots\n",
      "\u001b[36m(BucketsHashProcessorInvoker pid=52204)\u001b[0m 23:32:38 INFO - Waiting bucket processing completion\n",
      "\u001b[36m(orchestrate pid=52167)\u001b[0m 23:32:40 INFO - document snapshots created\n",
      "\u001b[36m(orchestrate pid=52167)\u001b[0m 23:32:43 INFO - Completed 1 files in 0.04649122953414917 min\n",
      "\u001b[36m(orchestrate pid=52167)\u001b[0m 23:32:45 INFO - Completed 2 files in 0.0795912504196167 min\n",
      "\u001b[36m(orchestrate pid=52167)\u001b[0m 23:32:45 INFO - Completed 2 files (40.0%)  in 0.0795974850654602 min. Waiting for completion\n",
      "\u001b[36m(orchestrate pid=52167)\u001b[0m 23:32:54 INFO - Completed processing 5 files in 0.23002409934997559 min\n",
      "\u001b[36m(orchestrate pid=52167)\u001b[0m 23:32:54 INFO - done flushing in 0.004540920257568359 sec\n",
      "23:33:04 INFO - Completed execution in 0.791690719127655 min, execution result 0\n"
     ]
    },
    {
     "data": {
      "text/plain": [
       "0"
      ]
     },
     "execution_count": 10,
     "metadata": {},
     "output_type": "execute_result"
    }
   ],
   "source": [
    "import os\n",
    "import sys\n",
    "\n",
    "from data_processing.utils import ParamsUtils\n",
    "from fdedup_transform_ray import FdedupRayTransformConfiguration\n",
    "\n",
    "# create parameters\n",
    "\n",
    "local_conf = {\n",
    "    \"input_folder\": input_folder,\n",
    "    \"output_folder\": output_folder,\n",
    "}\n",
    "worker_options = {\"num_cpus\": 0.8}\n",
    "code_location = {\"github\": \"github\", \"commit_hash\": \"12345\", \"path\": \"path\"}\n",
    "params = {\n",
    "    # where to run\n",
    "    \"run_locally\": True,\n",
    "    # Data access. Only required parameters are specified\n",
    "    \"data_local_config\": ParamsUtils.convert_to_ast(local_conf),\n",
    "    # Orchestration parameters\n",
    "    \"runtime_worker_options\": ParamsUtils.convert_to_ast(worker_options),\n",
    "    \"runtime_num_workers\": 3,\n",
    "    # columns used\n",
    "    \"fdedup_doc_column\": \"contents\",\n",
    "    \"fdedup_id_column\": \"int_id_column\",\n",
    "    \"fdedup_cluster_column\": \"hash_column\",\n",
    "    # infrastructure\n",
    "    \"fdedup_bucket_cpu\": 0.5,\n",
    "    \"fdedup_doc_cpu\": 0.5,\n",
    "    \"fdedup_mhash_cpu\": 0.5,\n",
    "    \"fdedup_num_doc_actors\": 2,\n",
    "    \"fdedup_num_bucket_actors\": 1,\n",
    "    \"fdedup_num_minhash_actors\": 1,\n",
    "    \"fdedup_num_preprocessors\": 2,\n",
    "    # fuzzy parameters\n",
    "    \"fdedup_num_permutations\": 64,\n",
    "    \"fdedup_threshold\": 0.8,\n",
    "    \"fdedup_shingles_size\": 5,\n",
    "    \"fdedup_delimiters\": \" \"\n",
    "}\n",
    "\n",
    "# Pass commandline params\n",
    "sys.argv = ParamsUtils.dict_to_req(d=params)\n",
    "\n",
    "# launch\n",
    "\n",
    "fdedup_launcher = RayTransformLauncher(FdedupRayTransformConfiguration())\n",
    "fdedup_launcher.launch()"
   ]
  },
  {
   "cell_type": "markdown",
   "id": "49d1d761-62a7-4a12-ad23-b2c268ad8ed2",
   "metadata": {},
   "source": [
    "## <span style=\"color: green\">  5. Programming language annotation [<-](#top)<a class=\"anchor\" id=\"item5\"></a> </span>\n",
    "\n",
    "The raw data may contains many programming languages. Of this, we would wish to retain a prioritised list of selected programming languages. This component takes a file which has new line separated names of languages we need to select. It annotates the data a new column with boolean values. This column can be used by filter component to select the required languages."
   ]
  },
  {
   "cell_type": "markdown",
   "id": "3db05e1e-4c62-4367-93ca-b2ddff95e4b4",
   "metadata": {},
   "source": [
    "### Set Input/output Folder"
   ]
  },
  {
   "cell_type": "code",
   "execution_count": 11,
   "id": "a8ec4fb6-fa62-45d1-9aa1-596d7182b2c9",
   "metadata": {},
   "outputs": [],
   "source": [
    "\n",
    "input_folder = fdedup_out\n",
    "output_folder = lang_out \n",
    "selected_languages_file = \"./test-data/allowed-code-languages.txt\"\n"
   ]
  },
  {
   "cell_type": "markdown",
   "id": "c07e7e5a-064f-4dca-a017-4211f7a3e980",
   "metadata": {},
   "source": [
    "### Execute "
   ]
  },
  {
   "cell_type": "code",
   "execution_count": 12,
   "id": "48dbb2a3-a6f4-4a3d-bb2f-8491fd063611",
   "metadata": {},
   "outputs": [
    {
     "name": "stderr",
     "output_type": "stream",
     "text": [
      "23:33:05 INFO - Running locally\n",
      "23:33:05 INFO - data factory proglang_select_ is using local configuration without input/output path\n",
      "23:33:05 INFO - data factory proglang_select_ max_files -1, n_sample -1\n",
      "23:33:05 INFO - data factory proglang_select_ Not using data sets, checkpointing False, max files -1, random samples -1, files to use ['.parquet'], files to checkpoint ['.parquet']\n",
      "23:33:05 INFO - data factory data_ is using local data access: input_folder - test-data/fdedup_out output_folder - test-data/lang_out\n",
      "23:33:05 INFO - data factory data_ max_files -1, n_sample -1\n",
      "23:33:05 INFO - data factory data_ Not using data sets, checkpointing False, max files -1, random samples -1, files to use ['.parquet'], files to checkpoint ['.parquet']\n",
      "23:33:05 INFO - pipeline id pipeline_id\n",
      "23:33:05 INFO - code location None\n",
      "23:33:05 INFO - number of workers 1 worker options {'num_cpus': 0.8}\n",
      "23:33:05 INFO - actor creation delay 0\n",
      "23:33:05 INFO - job details {'job category': 'preprocessing', 'job name': 'proglang_select', 'job type': 'ray', 'job id': 'job_id'}\n",
      "2024-06-19 23:33:07,489\tINFO worker.py:1715 -- Started a local Ray instance. View the dashboard at \u001b[1m\u001b[32m127.0.0.1:8265 \u001b[39m\u001b[22m\n",
      "\u001b[36m(orchestrate pid=52238)\u001b[0m 23:33:08 INFO - orchestrator started at 2024-06-19 23:33:08\n",
      "\u001b[36m(orchestrate pid=52238)\u001b[0m 23:33:08 INFO - Number of files is 5, source profile {'max_file_size': 7.656813621520996, 'min_file_size': 0.005321502685546875, 'total_file_size': 8.772536277770996}\n",
      "\u001b[36m(orchestrate pid=52238)\u001b[0m 23:33:08 INFO - Cluster resources: {'cpus': 16, 'gpus': 0, 'memory': 31.42457122821361, 'object_store': 2.0}\n",
      "\u001b[36m(orchestrate pid=52238)\u001b[0m 23:33:08 INFO - Number of workers - 1 with {'num_cpus': 0.8} each\n",
      "\u001b[36m(orchestrate pid=52238)\u001b[0m 23:33:08 INFO - Getting supported languages from file ./test-data/allowed-code-languages.txt\n",
      "\u001b[36m(orchestrate pid=52238)\u001b[0m 23:33:08 INFO - Supported languages b'Java\\nC\\nGo\\nText\\nPython\\nMarkdown'\n",
      "\u001b[36m(orchestrate pid=52238)\u001b[0m 23:33:08 INFO - Placed language list into Ray object storage under referenceObjectRef(00d950ec0ccf9d2affffffffffffffffffffffff0100000002e1f505)\n",
      "\u001b[36m(RayTransformFileProcessor pid=52252)\u001b[0m 23:33:08 INFO - Loading languages to include from Ray storage under reference ObjectRef(00d950ec0ccf9d2affffffffffffffffffffffff0100000002e1f505)\n",
      "\u001b[36m(orchestrate pid=52238)\u001b[0m 23:33:08 INFO - Completed 1 files in 0.009732401371002198 min\n",
      "\u001b[36m(orchestrate pid=52238)\u001b[0m 23:33:08 INFO - Completed 2 files in 0.009788183371225993 min\n",
      "\u001b[36m(orchestrate pid=52238)\u001b[0m 23:33:08 INFO - Completed 3 files in 0.010748851299285888 min\n",
      "\u001b[36m(orchestrate pid=52238)\u001b[0m 23:33:08 INFO - Completed 4 files in 0.010778764883677164 min\n",
      "\u001b[36m(orchestrate pid=52238)\u001b[0m 23:33:08 INFO - Completed 4 files (80.0%)  in 0.010779603322347005 min. Waiting for completion\n",
      "\u001b[36m(orchestrate pid=52238)\u001b[0m 23:33:08 INFO - Completed processing 5 files in 0.010830299059549967 min\n",
      "\u001b[36m(orchestrate pid=52238)\u001b[0m 23:33:08 INFO - done flushing in 0.0004150867462158203 sec\n",
      "23:33:18 INFO - Completed execution in 0.22255444924036663 min, execution result 0\n"
     ]
    },
    {
     "data": {
      "text/plain": [
       "0"
      ]
     },
     "execution_count": 12,
     "metadata": {},
     "output_type": "execute_result"
    }
   ],
   "source": [
    "import os\n",
    "import sys\n",
    "\n",
    "from data_processing.utils import ParamsUtils\n",
    "from proglang_select_transform_ray import ProgLangSelectRayConfiguration\n",
    "from proglang_select_transform import (\n",
    "    lang_allowed_langs_file_key,\n",
    "    lang_lang_column_key,\n",
    "    lang_output_column_key,\n",
    ")\n",
    "\n",
    "# create parameters\n",
    "language_column_name = \"programming_language\"\n",
    "annotated_column_name = \"lang_selected\"\n",
    "\n",
    "local_conf = {\n",
    "    \"input_folder\": input_folder,\n",
    "    \"output_folder\": output_folder,\n",
    "}\n",
    "worker_options = {\"num_cpus\": 0.8}\n",
    "langselect_config = {\n",
    "    lang_allowed_langs_file_key: selected_languages_file,\n",
    "    lang_lang_column_key: language_column_name,\n",
    "    lang_output_column_key: annotated_column_name,\n",
    "}\n",
    "params = {\n",
    "    # where to run\n",
    "    \"run_locally\": True,\n",
    "    # Data access. Only required parameters are specified\n",
    "    \"data_local_config\": ParamsUtils.convert_to_ast(local_conf),\n",
    "    # orchestrator\n",
    "    \"runtime_worker_options\": ParamsUtils.convert_to_ast(worker_options),\n",
    "    \"runtime_num_workers\": 1,\n",
    "    # language selection specific parameters\n",
    "    **langselect_config,\n",
    "}\n",
    "\n",
    "sys.argv = ParamsUtils.dict_to_req(d=params)\n",
    "\n",
    "# create launcher\n",
    "launcher = RayTransformLauncher(ProgLangSelectRayConfiguration())\n",
    "launcher.launch()\n"
   ]
  },
  {
   "cell_type": "markdown",
   "id": "0646cbb7-3046-44c0-827d-d102d3ff7cb8",
   "metadata": {},
   "source": [
    "## <span style=\"color: green\">  6. Code Quality [<-](#top)<a class=\"anchor\" id=\"item6\"></a> </span>\n",
    "\n",
    "We experiment with various code quality metrics but finally retain\n",
    "the four code quality metrics used by (Li et al., 2023) to balance the tradeoff between\n",
    "code quality versus data volume. \n"
   ]
  },
  {
   "cell_type": "markdown",
   "id": "2e985668-848b-4633-b0d8-9fe70ada0c91",
   "metadata": {},
   "source": [
    "### Set Input/output Folder"
   ]
  },
  {
   "cell_type": "code",
   "execution_count": 13,
   "id": "9f080011-c9fe-430e-9ecc-f2220d2c8d18",
   "metadata": {},
   "outputs": [
    {
     "name": "stdout",
     "output_type": "stream",
     "text": [
      "test-data/lang_out\n",
      "test-data/cq_out\n"
     ]
    }
   ],
   "source": [
    "input_folder = lang_out\n",
    "output_folder = cq_out\n",
    "\n",
    "print(input_folder)\n",
    "print(output_folder)"
   ]
  },
  {
   "cell_type": "markdown",
   "id": "c02982c5-f398-4a1a-a9fe-42d7ae748c7c",
   "metadata": {},
   "source": [
    "### Execute "
   ]
  },
  {
   "cell_type": "code",
   "execution_count": 14,
   "id": "29319fb9-b0d8-4f86-9bc5-b92960ad8ae5",
   "metadata": {},
   "outputs": [
    {
     "name": "stderr",
     "output_type": "stream",
     "text": [
      "None of PyTorch, TensorFlow >= 2.0, or Flax have been found. Models won't be available and only tokenizers, configuration and file/data utilities can be used.\n",
      "23:33:20 INFO - Running locally\n",
      "23:33:20 INFO - data factory data_ is using local data access: input_folder - test-data/lang_out output_folder - test-data/cq_out\n",
      "23:33:20 INFO - data factory data_ max_files -1, n_sample -1\n",
      "23:33:20 INFO - data factory data_ Not using data sets, checkpointing False, max files -1, random samples -1, files to use ['.parquet'], files to checkpoint ['.parquet']\n",
      "23:33:20 INFO - pipeline id pipeline_id\n",
      "23:33:20 INFO - code location None\n",
      "23:33:20 INFO - number of workers 3 worker options {'num_cpus': 0.8}\n",
      "23:33:20 INFO - actor creation delay 0\n",
      "23:33:20 INFO - job details {'job category': 'preprocessing', 'job name': 'code_quality', 'job type': 'ray', 'job id': 'job_id'}\n",
      "2024-06-19 23:33:22,278\tINFO worker.py:1715 -- Started a local Ray instance. View the dashboard at \u001b[1m\u001b[32m127.0.0.1:8265 \u001b[39m\u001b[22m\n",
      "\u001b[36m(orchestrate pid=52278)\u001b[0m None of PyTorch, TensorFlow >= 2.0, or Flax have been found. Models won't be available and only tokenizers, configuration and file/data utilities can be used.\n",
      "\u001b[36m(orchestrate pid=52278)\u001b[0m 23:33:23 INFO - orchestrator started at 2024-06-19 23:33:23\n",
      "\u001b[36m(orchestrate pid=52278)\u001b[0m 23:33:23 INFO - Number of files is 5, source profile {'max_file_size': 7.65715217590332, 'min_file_size': 0.005566596984863281, 'total_file_size': 8.77397632598877}\n",
      "\u001b[36m(orchestrate pid=52278)\u001b[0m 23:33:23 INFO - Cluster resources: {'cpus': 16, 'gpus': 0, 'memory': 30.955674744211137, 'object_store': 2.0}\n",
      "\u001b[36m(orchestrate pid=52278)\u001b[0m 23:33:23 INFO - Number of workers - 3 with {'num_cpus': 0.8} each\n",
      "\u001b[36m(RayTransformFileProcessor pid=52295)\u001b[0m /Users/shivdeep/workspace/projects/current/oss-data-prep/test-ingest2parquet/data-prep-kit/examples/venv/lib/python3.10/site-packages/huggingface_hub/file_download.py:1132: FutureWarning: `resume_download` is deprecated and will be removed in version 1.0.0. Downloads always resume when possible. If you want to force a new download, use `force_download=True`.\n",
      "\u001b[36m(RayTransformFileProcessor pid=52295)\u001b[0m   warnings.warn(\n",
      "\u001b[36m(RayTransformFileProcessor pid=52295)\u001b[0m Token indices sequence length is longer than the specified maximum sequence length for this model (1676 > 1024). Running this sequence through the model will result in indexing errors\n",
      "\u001b[36m(orchestrate pid=52278)\u001b[0m 23:33:24 INFO - Completed 1 files in 0.02450234889984131 min\n",
      "\u001b[36m(orchestrate pid=52278)\u001b[0m 23:33:24 INFO - Completed 2 files in 0.024543317159016927 min\n",
      "\u001b[36m(orchestrate pid=52278)\u001b[0m 23:33:24 INFO - Completed 2 files (40.0%)  in 0.024544183413187662 min. Waiting for completion\n",
      "\u001b[36m(orchestrate pid=52278)\u001b[0m 23:33:36 INFO - Completed processing 5 files in 0.2136624813079834 min\n",
      "\u001b[36m(orchestrate pid=52278)\u001b[0m 23:33:36 INFO - done flushing in 0.005311012268066406 sec\n",
      "\u001b[36m(RayTransformFileProcessor pid=52294)\u001b[0m None of PyTorch, TensorFlow >= 2.0, or Flax have been found. Models won't be available and only tokenizers, configuration and file/data utilities can be used.\u001b[32m [repeated 3x across cluster] (Ray deduplicates logs by default. Set RAY_DEDUP_LOGS=0 to disable log deduplication, or see https://docs.ray.io/en/master/ray-observability/ray-logging.html#log-deduplication for more options.)\u001b[0m\n",
      "\u001b[36m(RayTransformFileProcessor pid=52294)\u001b[0m /Users/shivdeep/workspace/projects/current/oss-data-prep/test-ingest2parquet/data-prep-kit/examples/venv/lib/python3.10/site-packages/huggingface_hub/file_download.py:1132: FutureWarning: `resume_download` is deprecated and will be removed in version 1.0.0. Downloads always resume when possible. If you want to force a new download, use `force_download=True`.\u001b[32m [repeated 2x across cluster]\u001b[0m\n",
      "\u001b[36m(RayTransformFileProcessor pid=52294)\u001b[0m   warnings.warn(\u001b[32m [repeated 2x across cluster]\u001b[0m\n",
      "\u001b[36m(RayTransformFileProcessor pid=52294)\u001b[0m Token indices sequence length is longer than the specified maximum sequence length for this model (2389 > 1024). Running this sequence through the model will result in indexing errors\u001b[32m [repeated 2x across cluster]\u001b[0m\n",
      "23:33:46 INFO - Completed execution in 0.4255295991897583 min, execution result 0\n"
     ]
    },
    {
     "data": {
      "text/plain": [
       "0"
      ]
     },
     "execution_count": 14,
     "metadata": {},
     "output_type": "execute_result"
    }
   ],
   "source": [
    "import os\n",
    "import sys\n",
    "from pathlib import Path\n",
    "\n",
    "from code_quality_transform_ray import CodeQualityRayTransformConfiguration\n",
    "from data_processing.utils import ParamsUtils\n",
    "\n",
    "local_conf = {\n",
    "    \"input_folder\": input_folder,\n",
    "    \"output_folder\": output_folder,\n",
    "}\n",
    "\n",
    "language_column_name = \"programming_language\"\n",
    "\n",
    "worker_options = {\"num_cpus\": 0.8}\n",
    "params = {\n",
    "    # where to run\n",
    "    \"run_locally\": True,\n",
    "    # Data access. Only required parameters are specified\n",
    "    \"data_local_config\": ParamsUtils.convert_to_ast(local_conf),\n",
    "    # orchestrator\n",
    "    \"runtime_worker_options\": ParamsUtils.convert_to_ast(worker_options),\n",
    "    \"runtime_num_workers\": 3,\n",
    "    \"runtime_pipeline_id\": \"pipeline_id\",\n",
    "    \"runtime_job_id\": \"job_id\",\n",
    "    \"runtime_creation_delay\": 0,\n",
    "    # code quality configuration\n",
    "    \"cq_contents_column_name\": \"contents\",\n",
    "    \"cq_language_column_name\": language_column_name,\n",
    "}\n",
    "\n",
    "\n",
    "Path(output_folder).mkdir(parents=True, exist_ok=True)\n",
    "\n",
    "sys.argv = ParamsUtils.dict_to_req(d=params)\n",
    "\n",
    "# create launcher\n",
    "launcher = RayTransformLauncher(CodeQualityRayTransformConfiguration())\n",
    "# launch\n",
    "launcher.launch()"
   ]
  },
  {
   "cell_type": "markdown",
   "id": "5cec9839-13b4-4d32-89c5-38f59c5a89f0",
   "metadata": {},
   "source": [
    "## 7. <span style=\"color: green\">   Filtering [<-](#top)<a class=\"anchor\" id=\"item7\"></a> </span>\n",
    "\n",
    "Filter out documents that do not meet the quality threshold for each annotation. The thresholds are computed based on a distributional\n",
    "analysis as well as manual inspection of samples maintaining the balance between data quality and data volume"
   ]
  },
  {
   "cell_type": "markdown",
   "id": "78c54d69-8aee-4f0f-b74c-35dc0609270f",
   "metadata": {},
   "source": [
    "### Set Input/output Folder"
   ]
  },
  {
   "cell_type": "code",
   "execution_count": 15,
   "id": "a7991811-b19e-43b5-89ac-b24060c0ccfa",
   "metadata": {},
   "outputs": [],
   "source": [
    "input_folder = cq_out\n",
    "output_folder = filter_out"
   ]
  },
  {
   "cell_type": "markdown",
   "id": "c460e05c-aeee-4b53-9dd5-8dfa1afc0ece",
   "metadata": {},
   "source": [
    "### Execute "
   ]
  },
  {
   "cell_type": "code",
   "execution_count": 16,
   "id": "61dea2b0-0e54-4912-8620-886e2b8420ef",
   "metadata": {},
   "outputs": [
    {
     "name": "stderr",
     "output_type": "stream",
     "text": [
      "23:33:47 INFO - Running locally\n",
      "23:33:47 INFO - data factory data_ is using local data access: input_folder - test-data/cq_out output_folder - test-data/filter_out\n",
      "23:33:47 INFO - data factory data_ max_files -1, n_sample -1\n",
      "23:33:47 INFO - data factory data_ Not using data sets, checkpointing False, max files -1, random samples -1, files to use ['.parquet'], files to checkpoint ['.parquet']\n",
      "23:33:47 INFO - pipeline id pipeline_id\n",
      "23:33:47 INFO - code location None\n",
      "23:33:47 INFO - number of workers 5 worker options {'num_cpus': 0.8}\n",
      "23:33:47 INFO - actor creation delay 0\n",
      "23:33:47 INFO - job details {'job category': 'preprocessing', 'job name': 'filter', 'job type': 'ray', 'job id': 'job_id'}\n",
      "2024-06-19 23:33:49,730\tINFO worker.py:1715 -- Started a local Ray instance. View the dashboard at \u001b[1m\u001b[32m127.0.0.1:8265 \u001b[39m\u001b[22m\n",
      "\u001b[36m(orchestrate pid=52332)\u001b[0m 23:33:50 INFO - orchestrator started at 2024-06-19 23:33:50\n",
      "\u001b[36m(orchestrate pid=52332)\u001b[0m 23:33:50 INFO - Number of files is 5, source profile {'max_file_size': 7.711193084716797, 'min_file_size': 0.009368896484375, 'total_file_size': 8.878622055053711}\n",
      "\u001b[36m(orchestrate pid=52332)\u001b[0m 23:33:50 INFO - Cluster resources: {'cpus': 16, 'gpus': 0, 'memory': 31.283493041992188, 'object_store': 2.0}\n",
      "\u001b[36m(orchestrate pid=52332)\u001b[0m 23:33:50 INFO - Number of workers - 5 with {'num_cpus': 0.8} each\n",
      "\u001b[36m(orchestrate pid=52332)\u001b[0m 23:33:50 INFO - Completed 0 files (0.0%)  in 4.8319498697916664e-06 min. Waiting for completion\n",
      "\u001b[36m(orchestrate pid=52332)\u001b[0m 23:33:51 INFO - Completed processing 5 files in 0.013345913092295329 min\n",
      "\u001b[36m(orchestrate pid=52332)\u001b[0m 23:33:51 INFO - done flushing in 0.0010788440704345703 sec\n",
      "23:34:01 INFO - Completed execution in 0.22851296265920004 min, execution result 0\n"
     ]
    },
    {
     "data": {
      "text/plain": [
       "0"
      ]
     },
     "execution_count": 16,
     "metadata": {},
     "output_type": "execute_result"
    }
   ],
   "source": [
    "import os\n",
    "\n",
    "from data_processing.data_access import DataAccessLocal\n",
    "from filter_transform import (\n",
    "    filter_columns_to_drop_cli_param,\n",
    "    filter_criteria_cli_param,\n",
    "    filter_logical_operator_cli_param,\n",
    ")\n",
    "from filter_transform_ray import FilterRayTransformConfiguration\n",
    "\n",
    "local_conf = {\n",
    "    \"input_folder\": input_folder,\n",
    "    \"output_folder\": output_folder,\n",
    "}\n",
    "\n",
    "# This is just an example criteria to filter\n",
    "filter_criteria = [\n",
    "    \"total_num_lines > 10 AND total_num_lines < 90\",\n",
    "    \"lang_selected = 1\",\n",
    "]\n",
    "filter_logical_operator = \"AND\"\n",
    "filter_columns_to_drop = [\"lang_selected\", \"hash_column\"]\n",
    "\n",
    "filter_params = {\n",
    "    filter_criteria_cli_param: filter_criteria,\n",
    "    filter_columns_to_drop_cli_param: filter_columns_to_drop,\n",
    "    filter_logical_operator_cli_param: filter_logical_operator,\n",
    "}\n",
    "\n",
    "worker_options = {\"num_cpus\": 0.8}\n",
    "launcher_params = {\n",
    "    # where to run\n",
    "    \"run_locally\": True,\n",
    "    # Data access. Only required parameters are specified\n",
    "    \"data_local_config\": ParamsUtils.convert_to_ast(local_conf),\n",
    "    # orchestrator\n",
    "    \"runtime_worker_options\": ParamsUtils.convert_to_ast(worker_options),\n",
    "    \"runtime_num_workers\": 5,\n",
    "}\n",
    "\n",
    "\n",
    "sys.argv = ParamsUtils.dict_to_req(launcher_params | filter_params)\n",
    "# Create the longer to launch with the blocklist transform.\n",
    "launcher = RayTransformLauncher(FilterRayTransformConfiguration())\n",
    "# Launch the ray actor(s) to process the input\n",
    "launcher.launch()"
   ]
  },
  {
   "cell_type": "markdown",
   "id": "5370950a-2a3a-4143-8218-f9b4808099ba",
   "metadata": {},
   "source": [
    "## 8. <span style=\"color: green\">  Tokenization [<-](#top)<a class=\"anchor\" id=\"item8\"></a> </span>\n",
    "\n",
    "The data tokenization transform maps a (non-empty) input table to an output table using a pre-trained tokenizer. The input table must contain at least two columns, by default named document_id and contents. The tokenization transform utilizes the pre-trained tokenizer to tokenize each row (assuming a document) in the input table to each row in the output folder.\n",
    "\n",
    "A pre-trained tokenizer must be specified through the --tkn_tokenizer parameter, which can be the name of a ready-for-download tokenizer from HuggingFace such as hf-internal-testing/llama-tokenizer, bigcode/starcoder or any others that can loaded by the Huggingface AutoTokenizer library. \n"
   ]
  },
  {
   "cell_type": "code",
   "execution_count": 17,
   "id": "20a153fa-fd56-401e-86be-4f7617affcc8",
   "metadata": {},
   "outputs": [],
   "source": [
    "input_folder = filter_out\n",
    "output_folder = tokensization_out"
   ]
  },
  {
   "cell_type": "code",
   "execution_count": 18,
   "id": "228df6b2-bc62-494b-9697-03ece98d7853",
   "metadata": {},
   "outputs": [
    {
     "name": "stderr",
     "output_type": "stream",
     "text": [
      "23:34:02 INFO - Running locally\n",
      "23:34:02 INFO - data factory data_ is using local data access: input_folder - test-data/filter_out output_folder - test-data/tokenization_out\n",
      "23:34:02 INFO - data factory data_ max_files -1, n_sample -1\n",
      "23:34:02 INFO - data factory data_ Not using data sets, checkpointing False, max files -1, random samples -1, files to use ['.parquet'], files to checkpoint ['.parquet']\n",
      "23:34:02 INFO - pipeline id pipeline_id\n",
      "23:34:02 INFO - code location None\n",
      "23:34:02 INFO - number of workers 5 worker options {'num_cpus': 0.8}\n",
      "23:34:02 INFO - actor creation delay 0\n",
      "23:34:02 INFO - job details {'job category': 'preprocessing', 'job name': 'Tokenization', 'job type': 'ray', 'job id': 'job_id'}\n",
      "2024-06-19 23:34:04,667\tINFO worker.py:1715 -- Started a local Ray instance. View the dashboard at \u001b[1m\u001b[32m127.0.0.1:8265 \u001b[39m\u001b[22m\n",
      "\u001b[36m(orchestrate pid=52380)\u001b[0m None of PyTorch, TensorFlow >= 2.0, or Flax have been found. Models won't be available and only tokenizers, configuration and file/data utilities can be used.\n",
      "\u001b[36m(orchestrate pid=52380)\u001b[0m 23:34:05 INFO - orchestrator started at 2024-06-19 23:34:05\n",
      "\u001b[36m(orchestrate pid=52380)\u001b[0m 23:34:05 INFO - Number of files is 5, source profile {'max_file_size': 0.3004436492919922, 'min_file_size': 0.004254341125488281, 'total_file_size': 0.48981380462646484}\n",
      "\u001b[36m(orchestrate pid=52380)\u001b[0m 23:34:05 INFO - Cluster resources: {'cpus': 16, 'gpus': 0, 'memory': 31.70830688532442, 'object_store': 2.0}\n",
      "\u001b[36m(orchestrate pid=52380)\u001b[0m 23:34:05 INFO - Number of workers - 5 with {'num_cpus': 0.8} each\n",
      "\u001b[36m(orchestrate pid=52380)\u001b[0m 23:34:05 INFO - Completed 0 files (0.0%)  in 4.2994817097981775e-06 min. Waiting for completion\n",
      "\u001b[36m(RayTransformFileProcessor pid=52394)\u001b[0m /Users/shivdeep/workspace/projects/current/oss-data-prep/test-ingest2parquet/data-prep-kit/examples/venv/lib/python3.10/site-packages/huggingface_hub/file_download.py:1132: FutureWarning: `resume_download` is deprecated and will be removed in version 1.0.0. Downloads always resume when possible. If you want to force a new download, use `force_download=True`.\n",
      "\u001b[36m(RayTransformFileProcessor pid=52394)\u001b[0m   warnings.warn(\n",
      "\u001b[36m(RayTransformFileProcessor pid=52396)\u001b[0m Token indices sequence length is longer than the specified maximum sequence length for this model (2344 > 2048). Running this sequence through the model will result in indexing errors\n",
      "\u001b[36m(orchestrate pid=52380)\u001b[0m 23:34:07 INFO - Completed processing 5 files in 0.02799654801686605 min\n",
      "\u001b[36m(orchestrate pid=52380)\u001b[0m 23:34:07 INFO - done flushing in 0.0008699893951416016 sec\n",
      "\u001b[36m(RayTransformFileProcessor pid=52395)\u001b[0m 23:34:07 WARNING - table is empty, skipping processing\n",
      "23:34:17 INFO - Completed execution in 0.23911206324895223 min, execution result 0\n",
      "\u001b[36m(RayTransformFileProcessor pid=52396)\u001b[0m None of PyTorch, TensorFlow >= 2.0, or Flax have been found. Models won't be available and only tokenizers, configuration and file/data utilities can be used.\u001b[32m [repeated 5x across cluster]\u001b[0m\n",
      "\u001b[36m(RayTransformFileProcessor pid=52396)\u001b[0m /Users/shivdeep/workspace/projects/current/oss-data-prep/test-ingest2parquet/data-prep-kit/examples/venv/lib/python3.10/site-packages/huggingface_hub/file_download.py:1132: FutureWarning: `resume_download` is deprecated and will be removed in version 1.0.0. Downloads always resume when possible. If you want to force a new download, use `force_download=True`.\u001b[32m [repeated 4x across cluster]\u001b[0m\n",
      "\u001b[36m(RayTransformFileProcessor pid=52396)\u001b[0m   warnings.warn(\u001b[32m [repeated 4x across cluster]\u001b[0m\n"
     ]
    },
    {
     "data": {
      "text/plain": [
       "0"
      ]
     },
     "execution_count": 18,
     "metadata": {},
     "output_type": "execute_result"
    }
   ],
   "source": [
    "from tokenization_transform_ray import TokenizationRayConfiguration\n",
    "\n",
    "local_conf = {\n",
    "    \"input_folder\": input_folder,\n",
    "    \"output_folder\": output_folder,\n",
    "}\n",
    "worker_options = {\"num_cpus\": 0.8}\n",
    "params = {\n",
    "    # where to run\n",
    "    \"run_locally\": True,\n",
    "    # Data access. Only required parameters are specified\n",
    "    \"data_local_config\": ParamsUtils.convert_to_ast(local_conf),\n",
    "    # orchestrator\n",
    "    \"runtime_worker_options\": ParamsUtils.convert_to_ast(worker_options),\n",
    "    \"runtime_num_workers\": 5,\n",
    "}\n",
    "\n",
    "sys.argv = ParamsUtils.dict_to_req(d=params)\n",
    "# create launcher\n",
    "launcher = RayTransformLauncher(TokenizationRayConfiguration())\n",
    "# Launch the ray actor(s) to process the input\n",
    "launcher.launch()\n"
   ]
  },
  {
   "cell_type": "markdown",
   "id": "4a6e86b0-4d1e-455a-a44a-d09107a9dae4",
   "metadata": {},
   "source": [
    "## Repo Level Ordering Transform"
   ]
  },
  {
   "cell_type": "code",
   "execution_count": null,
   "id": "4c54cc37-7c60-43f7-9193-ce919995dddf",
   "metadata": {},
   "outputs": [
    {
     "name": "stderr",
     "output_type": "stream",
     "text": [
      "12:08:28 INFO - Running locally\n",
      "12:08:28 INFO - data factory data_ is using local data access: input_folder - ../../../transforms/code/repo_level_ordering/ray/test-data/input output_folder - ./output\n",
      "12:08:28 INFO - data factory data_ max_files -1, n_sample -1\n",
      "12:08:28 INFO - data factory data_ Not using data sets, checkpointing False, max files -1, random samples -1, files to use ['.parquet'], files to checkpoint ['.parquet']\n",
      "12:08:28 INFO - pipeline id pipeline_id\n",
      "12:08:28 INFO - code location {'github': 'github', 'commit_hash': '12345', 'path': 'path'}\n",
      "12:08:28 INFO - number of workers 2 worker options {'num_cpus': 0.8, 'max_restarts': -1}\n",
      "12:08:28 INFO - actor creation delay 0\n",
      "12:08:28 INFO - job details {'job category': 'preprocessing', 'job name': 'repo_lvl', 'job type': 'ray', 'job id': 'job_id'}\n"
     ]
    },
    {
     "name": "stdout",
     "output_type": "stream",
     "text": [
      "Creating Store Params\n"
     ]
    },
    {
     "name": "stderr",
     "output_type": "stream",
     "text": [
      "2024-09-02 12:08:29,866\tINFO worker.py:1744 -- Started a local Ray instance. View the dashboard at \u001b[1m\u001b[32m127.0.0.1:8265 \u001b[39m\u001b[22m\n"
     ]
    },
    {
     "name": "stdout",
     "output_type": "stream",
     "text": [
      "\u001b[36m(orchestrate pid=8886)\u001b[0m Init Store params\n"
     ]
    },
    {
     "name": "stderr",
     "output_type": "stream",
     "text": [
      "\u001b[36m(orchestrate pid=8886)\u001b[0m 12:08:30 INFO - orchestrator started at 2024-09-02 12:08:30\n",
      "\u001b[36m(orchestrate pid=8886)\u001b[0m 12:08:30 INFO - Number of files is 2, source profile {'max_file_size': 0.043808937072753906, 'min_file_size': 0.04120159149169922, 'total_file_size': 0.08501052856445312}\n",
      "\u001b[36m(orchestrate pid=8886)\u001b[0m 12:08:30 INFO - Cluster resources: {'cpus': 16, 'gpus': 0, 'memory': 28.01360473688692, 'object_store': 2.0}\n",
      "\u001b[36m(orchestrate pid=8886)\u001b[0m 12:08:30 INFO - Number of workers - 2 with {'num_cpus': 0.8, 'max_restarts': -1} each\n",
      "\u001b[36m(orchestrate pid=8886)\u001b[0m 12:08:30 INFO - => get_transform_config started\n",
      "\u001b[36m(orchestrate pid=8886)\u001b[0m 12:08:30 INFO - dict_keys(['store_backend_dir', 'store_type', 's3_creds'])\n",
      "\u001b[36m(orchestrate pid=8886)\u001b[0m 12:08:30 INFO - <= get_transform_config\n",
      "\u001b[36m(orchestrate pid=8886)\u001b[0m 12:08:30 INFO - Completed 0 files (0.0%)  in 0.0 min. Waiting for completion\n"
     ]
    },
    {
     "name": "stdout",
     "output_type": "stream",
     "text": [
      "\u001b[36m(RayTransformFileProcessor pid=8895)\u001b[0m Creating local store.\n"
     ]
    },
    {
     "name": "stderr",
     "output_type": "stream",
     "text": [
      "\u001b[36m(orchestrate pid=8886)\u001b[0m 12:08:31 INFO - Completed processing 2 files in 0.01 min\n",
      "\u001b[36m(orchestrate pid=8886)\u001b[0m 12:08:31 INFO - done flushing in 0.001 sec\n",
      "\u001b[36m(orchestrate pid=8886)\u001b[0m 12:08:31 INFO - Store Backend is None\n",
      "\u001b[36m(orchestrate pid=8886)\u001b[0m 12:08:31 INFO - Stage 1 Finished in 0:00:00.604581.\n",
      "\u001b[36m(orchestrate pid=8886)\u001b[0m 12:08:31 I - Repo level sorting is enabled. Algo: SORT_SEMANTIC_NORMALISED\n",
      "\u001b[36m(orchestrate pid=8886)\u001b[0m 12:08:31 I - normalised semantic sort enabled\n",
      "\u001b[36m(orchestrate pid=8886)\u001b[0m 12:08:31 I - Output by language enabled.\n",
      "\u001b[36m(orchestrate pid=8886)\u001b[0m 12:08:31 I - Combine rows enabled.\n",
      "\u001b[36m(orchestrate pid=8886)\u001b[0m 12:08:31 I - Processing 2 repos with 2 workers\n",
      "\u001b[36m(orchestrate pid=8886)\u001b[0m 12:08:33 I - Finished the transform in 0:00:02.707978 \n",
      "\u001b[36m(GroupByRepoActor pid=8898)\u001b[0m 12:08:33 I - Write unknown/repo2, tables: 1\n"
     ]
    },
    {
     "name": "stdout",
     "output_type": "stream",
     "text": [
      "\u001b[36m(GroupByRepoActor pid=8898)\u001b[0m Most promiment languages:  [unknown ,Tex]\n",
      "\u001b[36m(GroupByRepoActor pid=8898)\u001b[0m returning from the end of function. chosen language: unknown\n",
      "\u001b[36m(GroupByRepoActor pid=8899)\u001b[0m Most promiment languages:  [unknown ,Markdown]\n"
     ]
    },
    {
     "name": "stderr",
     "output_type": "stream",
     "text": [
      "12:08:43 INFO - Completed execution in 0.253 min, execution result 0\n",
      "\u001b[36m(GroupByRepoActor pid=8899)\u001b[0m 12:08:33 I - Write unknown/SchapplM%2Frobotics-paper_ark2022_3T1R, tables: 1\n"
     ]
    },
    {
     "name": "stdout",
     "output_type": "stream",
     "text": [
      "\u001b[36m(orchestrate pid=8886)\u001b[0m Creating local store.\u001b[32m [repeated 2x across cluster]\u001b[0m\n",
      "\u001b[36m(GroupByRepoActor pid=8899)\u001b[0m returning from the end of function. chosen language: unknown\n"
     ]
    }
   ],
   "source": [
    "from repo_level_order_transform import RepoLevelOrderRayTransformConfiguration\n",
    "\n",
    "input_folder = \"../../../transforms/code/repo_level_ordering/ray/test-data/input\"\n",
    "output_folder = \"./output\"\n",
    "\n",
    "import tempfile\n",
    "\n",
    "with tempfile.TemporaryDirectory() as tmpdirname:\n",
    "\n",
    "    # create parameters\n",
    "    local_conf = {\n",
    "        \"input_folder\": input_folder,\n",
    "        \"output_folder\": output_folder,\n",
    "     }\n",
    "\n",
    "    worker_options = {\"num_cpus\": 0.8}\n",
    "    code_location = {\"github\": \"github\", \"commit_hash\": \"12345\", \"path\": \"path\"}\n",
    "    params = {\n",
    "        # where to run\n",
    "        \"run_locally\": True,\n",
    "        # Data access. Only required parameters are specified\n",
    "        \"data_local_config\": ParamsUtils.convert_to_ast(local_conf),\n",
    "        # orchestrator\n",
    "        \"runtime_worker_options\": ParamsUtils.convert_to_ast(worker_options),\n",
    "        \"runtime_num_workers\": 2,\n",
    "        \"runtime_pipeline_id\": \"pipeline_id\",\n",
    "        \"runtime_job_id\": \"job_id\",\n",
    "        \"runtime_creation_delay\": 0,\n",
    "        \"runtime_code_location\": ParamsUtils.convert_to_ast(code_location),\n",
    "    }\n",
    "\n",
    "\n",
    "    repo_level_params = {\n",
    "        \"repo_lvl_sorting_algo\": \"SORT_SEMANTIC_NORMALISED\",\n",
    "        \"repo_lvl_store_type\": \"local\",\n",
    "        \"repo_lvl_store_backend_dir\": tmpdirname,\n",
    "        \"repo_lvl_output_by_langs\": True,\n",
    "        \"repo_lvl_combine_rows\": True,\n",
    "        \"repo_lvl_sorting_enabled\": True,\n",
    "        \"data_local_config\": ParamsUtils.convert_to_ast(local_conf)\n",
    "    }\n",
    "\n",
    "    sys.argv= ParamsUtils.dict_to_req(d=params | repo_level_params)\n",
    "    launcher = RayTransformLauncher(RepoLevelOrderRayTransformConfiguration())\n",
    "    # Launch the ray actor(s) to process the input\n",
    "    launcher.launch()"
   ]
  }
 ],
 "metadata": {
  "kernelspec": {
   "display_name": "Python 3 (ipykernel)",
   "language": "python",
   "name": "python3"
  },
  "language_info": {
   "codemirror_mode": {
    "name": "ipython",
    "version": 3
   },
   "file_extension": ".py",
   "mimetype": "text/x-python",
   "name": "python",
   "nbconvert_exporter": "python",
   "pygments_lexer": "ipython3",
   "version": "3.11.6"
  }
 },
 "nbformat": 4,
 "nbformat_minor": 5
}
