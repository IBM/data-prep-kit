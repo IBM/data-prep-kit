{
 "cells": [
  {
   "cell_type": "markdown",
   "id": "841e533d-ebb3-406d-9da7-b19e2c5f5866",
   "metadata": {},
   "source": [
    "<div style=\"background-color: #04D7FD; padding: 20px; text-align: left;\">\n",
    "    <h1 style=\"color: #000000; font-size: 36px; margin: 0;\">Demo: Data Prep Kit</h1>\n",
    "    \n",
    "</div>\n"
   ]
  },
  {
   "cell_type": "markdown",
   "id": "053ecf08-5f62-4b99-9347-8a0955843d21",
   "metadata": {},
   "source": [
    "## Overview\n",
    "Welcome to the demo notebook! Inside, you will find an end-to-end sample data pipeline designed for processing language datasets, beginning with a folder of PDF documents and culminating in a working Retrieval-Augmented Generation (RAG) system. This notebook provides the following transforms for processing the data. \n",
    "\n",
    "- [pdf2parquet](#item1)\n",
    "- [Chunk documents](#item2)\n",
    "- [Exact Dedup](#item3)\n",
    "- [Doc_ID generation](#item4)\n",
    "- [Fuzzy Dedup](#item5)\n",
    "- [Language detection](#item6)\n",
    "- [Doc quality](#item7)\n",
    "- [Filtering](#item8)\n",
    "- [Text encoder](#item9)\n",
    "\n",
    "### Getting started\n",
    "\n",
    "TBA"
   ]
  },
  {
   "cell_type": "markdown",
   "id": "bd5d976e-cb4c-4469-af39-4b7ea507e9d8",
   "metadata": {},
   "source": [
    "### Import Common python modules"
   ]
  },
  {
   "cell_type": "code",
   "execution_count": 1,
   "id": "66178913-42b8-426b-a2e9-9587268fd05b",
   "metadata": {},
   "outputs": [],
   "source": [
    "\n",
    "import os\n",
    "import sys\n",
    "\n",
    "from data_processing_ray.runtime.ray import RayTransformLauncher\n",
    "from data_processing.runtime.pure_python import PythonTransformLauncher\n",
    "from data_processing.utils import ParamsUtils"
   ]
  },
  {
   "cell_type": "markdown",
   "id": "72510ae6-48b0-4b88-9e13-a623281c3a63",
   "metadata": {},
   "source": [
    "### Set input/output path variables for the pipeline"
   ]
  },
  {
   "cell_type": "code",
   "execution_count": 2,
   "id": "60ac8bee-0960-4309-b225-d7a211b14262",
   "metadata": {},
   "outputs": [],
   "source": [
    "# Example\n",
    "# We can set input paths here\n",
    "pdf_input_folder = \"input_data\"\n",
    "\n",
    "if not os.path.exists(pdf_input_folder):\n",
    "    print (\"NO INPUT DATA\")\n",
    "    print (\"Please set `pdf_input_folder` variable to path containing data\")\n",
    "\n",
    "# make sure the paths are correct\n",
    "data_base_path = \"output\"\n",
    "\n",
    "parquet_data_output = os.path.join(data_base_path, \"01_parquet_input\")\n",
    "\n",
    "chunk_out =  os.path.join(data_base_path, \"02_chunk_out\")\n",
    "ededup_out =  os.path.join(data_base_path, \"03_ededup_out\")\n",
    "doc_id_out =  os.path.join(data_base_path, \"04_doc_id_out\")\n",
    "fdedup_out = os.path.join(data_base_path, \"05_fdedup_out\")\n",
    "lang_out =  os.path.join(data_base_path,\"06_lang_out\")\n",
    "dq_out = os.path.join(data_base_path,\"07_dq_out\")\n",
    "\n",
    "filter_out = os.path.join(data_base_path ,\"08_filter_out\")\n",
    "encoder_out = os.path.join(data_base_path ,\"09_encoder_out\")\n",
    "\n",
    "# Main repo root\n",
    "from utils import rootdir"
   ]
  },
  {
   "cell_type": "markdown",
   "id": "2449e5c7-078c-4ad6-a2f6-21d39d4da3fb",
   "metadata": {},
   "source": [
    "## <span style=\"color: green\"> 1. Convert data to parquet using pdf2parquet [<-](#top)<a class=\"anchor\" id=\"item1\"></a>\n",
    "_pdf_ to _parquet_ </span>\n",
    "\n",
    "This step is reading the input folder containing all PDF files and ingest them in a parquet table using the [Docling package](https://github.com/DS4SD/docling).\n",
    "The documents are converted into a JSON format which allows to easily chunk it in the later steps.\n",
    "\n"
   ]
  },
  {
   "cell_type": "markdown",
   "id": "c0c574c4-9dc4-4dab-9ad6-b5338207e67a",
   "metadata": {},
   "source": [
    "### Set Input/output Folder"
   ]
  },
  {
   "cell_type": "code",
   "execution_count": 3,
   "id": "482605b2-d814-456d-9195-49a2ec454ef0",
   "metadata": {},
   "outputs": [],
   "source": [
    "# For this stage input folder contains the zip files, each zip file contains a github repo.\n",
    "\n",
    "input_folder = pdf_input_folder\n",
    "output_folder =  parquet_data_output"
   ]
  },
  {
   "cell_type": "markdown",
   "id": "9bb15f02-ab5c-4525-a536-cfa1fd2ba70b",
   "metadata": {},
   "source": [
    "### Execute "
   ]
  },
  {
   "cell_type": "code",
   "execution_count": 4,
   "id": "b0cd8ebd-bf71-42d6-a397-8df0c7b66a26",
   "metadata": {},
   "outputs": [
    {
     "name": "stderr",
     "output_type": "stream",
     "text": [
      "17:16:00 INFO - Running locally\n",
      "17:16:00 INFO - pdf2parquet parameters are : {'artifacts_path': None, 'contents_type': <pdf2parquet_contents_types.JSON: 'application/json'>, 'do_table_structure': True, 'do_ocr': False}\n",
      "17:16:00 INFO - data factory data_ is using local data access: input_folder - input_data output_folder - output/parquet_input\n",
      "17:16:00 INFO - data factory data_ max_files -1, n_sample -1\n",
      "17:16:00 INFO - data factory data_ Not using data sets, checkpointing False, max files -1, random samples -1, files to use ['.pdf'], files to checkpoint ['.parquet']\n",
      "17:16:00 INFO - pipeline id pipeline_id\n",
      "17:16:00 INFO - code location {'github': 'github', 'commit_hash': '12345', 'path': 'path'}\n",
      "17:16:00 INFO - number of workers 1 worker options {'num_cpus': 0.8, 'memory': 2147483648, 'max_restarts': -1}\n",
      "17:16:00 INFO - actor creation delay 0\n",
      "17:16:00 INFO - job details {'job category': 'preprocessing', 'job name': 'pdf2parquet', 'job type': 'ray', 'job id': 'job_id'}\n",
      "2024-07-31 17:16:04,745\tINFO worker.py:1744 -- Started a local Ray instance. View the dashboard at \u001b[1m\u001b[32m127.0.0.1:8265 \u001b[39m\u001b[22m\n",
      "\u001b[36m(orchestrate pid=98398)\u001b[0m 17:16:07 INFO - orchestrator started at 2024-07-31 17:16:07\n",
      "\u001b[36m(orchestrate pid=98398)\u001b[0m 17:16:07 INFO - Number of files is 1, source profile {'max_file_size': 5.398899078369141, 'min_file_size': 5.398899078369141, 'total_file_size': 5.398899078369141}\n",
      "\u001b[36m(orchestrate pid=98398)\u001b[0m 17:16:07 INFO - Cluster resources: {'cpus': 16, 'gpus': 0, 'memory': 33.14529113844037, 'object_store': 2.0}\n",
      "\u001b[36m(orchestrate pid=98398)\u001b[0m 17:16:07 INFO - Number of workers - 1 with {'num_cpus': 0.8, 'memory': 2147483648, 'max_restarts': -1} each\n",
      "\u001b[36m(orchestrate pid=98398)\u001b[0m 17:16:07 INFO - Completed 0 files (0.0%)  in 1.8199284871419272e-06 min. Waiting for completion\n",
      "\u001b[36m(RayTransformFileProcessor pid=98418)\u001b[0m 17:16:09 INFO - Initializing models\n",
      "Fetching 7 files: 100%|██████████| 7/7 [00:00<00:00, 145347.17it/s]\n",
      "\u001b[36m(RayTransformFileProcessor pid=98418)\u001b[0m /Users/dol/scratch/dpk-dev/data-prep-kit/examples/notebooks/language/venv/lib/python3.10/site-packages/torchvision/models/_utils.py:208: UserWarning: The parameter 'pretrained' is deprecated since 0.13 and may be removed in the future, please use 'weights' instead.\n",
      "\u001b[36m(RayTransformFileProcessor pid=98418)\u001b[0m   warnings.warn(\n",
      "\u001b[36m(RayTransformFileProcessor pid=98418)\u001b[0m /Users/dol/scratch/dpk-dev/data-prep-kit/examples/notebooks/language/venv/lib/python3.10/site-packages/torchvision/models/_utils.py:223: UserWarning: Arguments other than a weight enum or `None` for 'weights' are deprecated since 0.13 and may be removed in the future. The current behavior is equivalent to passing `weights=None`.\n",
      "\u001b[36m(RayTransformFileProcessor pid=98418)\u001b[0m   warnings.warn(msg)\n",
      "\u001b[36m(RayTransformFileProcessor pid=98418)\u001b[0m /Users/dol/scratch/dpk-dev/data-prep-kit/examples/notebooks/language/venv/lib/python3.10/site-packages/torch/nn/modules/transformer.py:286: UserWarning: enable_nested_tensor is True, but self.use_nested_tensor is False because encoder_layer.self_attn.batch_first was not True(use batch_first for better inference performance)\n",
      "\u001b[36m(RayTransformFileProcessor pid=98418)\u001b[0m   warnings.warn(f\"enable_nested_tensor is True, but self.use_nested_tensor is False because {why_not_sparsity_fast_path}\")\n",
      "\u001b[36m(orchestrate pid=98398)\u001b[0m 17:17:16 INFO - Completed processing 1 files in 1.1512847383817038 min\n",
      "\u001b[36m(orchestrate pid=98398)\u001b[0m 17:17:16 INFO - done flushing in 0.0004470348358154297 sec\n",
      "\u001b[36m(RayTransformFileProcessor pid=98418)\u001b[0m /opt/homebrew/Cellar/python@3.10/3.10.14_1/Frameworks/Python.framework/Versions/3.10/lib/python3.10/multiprocessing/resource_tracker.py:224: UserWarning: resource_tracker: There appear to be 1 leaked semaphore objects to clean up at shutdown\n",
      "\u001b[36m(RayTransformFileProcessor pid=98418)\u001b[0m   warnings.warn('resource_tracker: There appear to be %d '\n",
      "17:17:26 INFO - Completed execution in 1.4422833681106568 min, execution result 0\n"
     ]
    },
    {
     "data": {
      "text/plain": [
       "0"
      ]
     },
     "execution_count": 4,
     "metadata": {},
     "output_type": "execute_result"
    }
   ],
   "source": [
    "import ast\n",
    "import os\n",
    "import sys\n",
    "\n",
    "from pdf2parquet_transform import (\n",
    "    pdf2parquet_contents_type_cli_param,\n",
    "    pdf2parquet_contents_types,\n",
    ")\n",
    "from pdf2parquet_transform_python import Pdf2ParquetPythonTransformConfiguration\n",
    "from pdf2parquet_transform_ray import Pdf2ParquetRayTransformConfiguration\n",
    "\n",
    "from data_processing.utils import GB, ParamsUtils\n",
    "\n",
    "\n",
    "# create parameters\n",
    "local_conf = {\n",
    "    \"input_folder\": input_folder,\n",
    "    \"output_folder\": output_folder,\n",
    "}\n",
    "worker_options = {\"num_cpus\": 0.8, \"memory\": 2 * GB}\n",
    "code_location = {\"github\": \"github\", \"commit_hash\": \"12345\", \"path\": \"path\"}\n",
    "ingest_config = {\n",
    "    pdf2parquet_contents_type_cli_param: pdf2parquet_contents_types.JSON,\n",
    "}\n",
    "\n",
    "params = {\n",
    "    # where to run\n",
    "    \"run_locally\": True,\n",
    "    # Data access. Only required parameters are specified\n",
    "    \"data_local_config\": ParamsUtils.convert_to_ast(local_conf),\n",
    "    \"data_files_to_use\": ast.literal_eval(\"['.pdf']\"),\n",
    "    # orchestrator\n",
    "    \"runtime_worker_options\": ParamsUtils.convert_to_ast(worker_options),\n",
    "    # \"runtime_num_workers\": 3,\n",
    "    \"runtime_pipeline_id\": \"pipeline_id\",\n",
    "    \"runtime_job_id\": \"job_id\",\n",
    "    \"runtime_code_location\": ParamsUtils.convert_to_ast(code_location),\n",
    "}\n",
    "\n",
    "\n",
    "sys.argv = ParamsUtils.dict_to_req(d=(params | ingest_config))\n",
    "# create launcher\n",
    "launcher = RayTransformLauncher(Pdf2ParquetRayTransformConfiguration())\n",
    "# launcher = PythonTransformLauncher(Pdf2ParquetPythonTransformConfiguration())\n",
    "# launch\n",
    "launcher.launch()"
   ]
  },
  {
   "cell_type": "markdown",
   "id": "addd5d13",
   "metadata": {},
   "source": [
    "##  <span style=\"color: green\">   2. Doc chunks [<-](#top)<a class=\"anchor\" id=\"item2\"></a> </span>\n",
    "\n",
    "Split the documents in chunks, according to their layout segmentation."
   ]
  },
  {
   "cell_type": "markdown",
   "id": "7d86f84e",
   "metadata": {},
   "source": [
    "### Set Input/output Folder"
   ]
  },
  {
   "cell_type": "code",
   "execution_count": 5,
   "id": "81843d06",
   "metadata": {},
   "outputs": [
    {
     "name": "stdout",
     "output_type": "stream",
     "text": [
      "output/parquet_input\n",
      "output/chunk_out\n"
     ]
    }
   ],
   "source": [
    "## For this stage the input is the folder containing parquet data which is output from the ingest2parquet tool\n",
    "\n",
    "input_folder = parquet_data_output\n",
    "output_folder = chunk_out\n",
    "\n",
    "print(input_folder)\n",
    "print(output_folder)"
   ]
  },
  {
   "cell_type": "markdown",
   "id": "f35af440",
   "metadata": {},
   "source": [
    "### Execute "
   ]
  },
  {
   "cell_type": "code",
   "execution_count": 6,
   "id": "d34705d9",
   "metadata": {},
   "outputs": [
    {
     "name": "stderr",
     "output_type": "stream",
     "text": [
      "17:17:48 INFO - Running locally\n",
      "17:17:48 INFO - doc_chunk parameters are : {'chunking_type': <chunking_types.DL_JSON: 'dl_json'>, 'content_column_name': 'contents', 'output_chunk_column_name': 'contents', 'output_jsonpath_column_name': 'doc_jsonpath', 'output_pageno_column_name': 'page_number', 'output_bbox_column_name': 'bbox'}\n",
      "17:17:48 INFO - data factory data_ is using local data access: input_folder - output/parquet_input output_folder - output/chunk_out\n",
      "17:17:48 INFO - data factory data_ max_files -1, n_sample -1\n",
      "17:17:48 INFO - data factory data_ Not using data sets, checkpointing False, max files -1, random samples -1, files to use ['.parquet'], files to checkpoint ['.parquet']\n",
      "17:17:48 INFO - pipeline id pipeline_id\n",
      "17:17:48 INFO - code location None\n",
      "17:17:48 INFO - number of workers 3 worker options {'num_cpus': 0.8, 'max_restarts': -1}\n",
      "17:17:48 INFO - actor creation delay 0\n",
      "17:17:48 INFO - job details {'job category': 'preprocessing', 'job name': 'doc_chunk', 'job type': 'ray', 'job id': 'job_id'}\n",
      "2024-07-31 17:17:50,021\tINFO worker.py:1744 -- Started a local Ray instance. View the dashboard at \u001b[1m\u001b[32m127.0.0.1:8265 \u001b[39m\u001b[22m\n",
      "\u001b[36m(orchestrate pid=98829)\u001b[0m 17:17:51 INFO - orchestrator started at 2024-07-31 17:17:51\n",
      "\u001b[36m(orchestrate pid=98829)\u001b[0m 17:17:51 INFO - Number of files is 1, source profile {'max_file_size': 0.0999746322631836, 'min_file_size': 0.0999746322631836, 'total_file_size': 0.0999746322631836}\n",
      "\u001b[36m(orchestrate pid=98829)\u001b[0m 17:17:51 INFO - Cluster resources: {'cpus': 16, 'gpus': 0, 'memory': 35.02506561297923, 'object_store': 2.0}\n",
      "\u001b[36m(orchestrate pid=98829)\u001b[0m 17:17:51 INFO - Number of workers - 3 with {'num_cpus': 0.8, 'max_restarts': -1} each\n",
      "\u001b[36m(orchestrate pid=98829)\u001b[0m 17:17:51 INFO - Completed 0 files (0.0%)  in 2.102057139078776e-06 min. Waiting for completion\n",
      "\u001b[36m(orchestrate pid=98829)\u001b[0m 17:17:54 INFO - Completed processing 1 files in 0.04179106553395589 min\n",
      "\u001b[36m(orchestrate pid=98829)\u001b[0m 17:17:54 INFO - done flushing in 0.0014500617980957031 sec\n",
      "17:18:04 INFO - Completed execution in 0.26520586808522545 min, execution result 0\n"
     ]
    },
    {
     "data": {
      "text/plain": [
       "0"
      ]
     },
     "execution_count": 6,
     "metadata": {},
     "output_type": "execute_result"
    }
   ],
   "source": [
    "# Import doc_json_chunk transform configuration\n",
    "from doc_chunk_transform_ray import DocChunkRayTransformConfiguration\n",
    "\n",
    "\n",
    "# Prepare the commandline params\n",
    "local_conf = {\n",
    "    \"input_folder\": input_folder,\n",
    "    \"output_folder\": output_folder,\n",
    "}\n",
    "worker_options = {\"num_cpus\": 0.8}\n",
    "params = {\n",
    "    # where to run\n",
    "    \"run_locally\": True,\n",
    "    # Data access. Only required parameters are specified\n",
    "    \"data_local_config\": ParamsUtils.convert_to_ast(local_conf),\n",
    "    # orchestrator\n",
    "    \"runtime_worker_options\": ParamsUtils.convert_to_ast(worker_options),\n",
    "    \"runtime_num_workers\": 3,\n",
    "    # doc_chunk arguments\n",
    "    # ...\n",
    "}\n",
    "\n",
    "# Pass the commandline params\n",
    "sys.argv = ParamsUtils.dict_to_req(d=params)\n",
    "\n",
    "# create launcher\n",
    "launcher = RayTransformLauncher(DocChunkRayTransformConfiguration())\n",
    "# launch\n",
    "launcher.launch()"
   ]
  },
  {
   "cell_type": "markdown",
   "id": "4692975c-49ff-41ae-810e-0f5bc0bbdc53",
   "metadata": {},
   "source": [
    "##  <span style=\"color: green\">   3. Exact Dedup [<-](#top)<a class=\"anchor\" id=\"item3\"></a> </span>\n",
    "\n",
    "Remove documents having identical code to remove bias in the training data. On the content of each document, a SHA256 hash is computed,\n",
    "followed by de-duplication of record having identical hashes."
   ]
  },
  {
   "cell_type": "markdown",
   "id": "5acfd3a2-a236-4143-bcfc-15804f1da7fe",
   "metadata": {},
   "source": [
    "### Set Input/output Folder"
   ]
  },
  {
   "cell_type": "code",
   "execution_count": 7,
   "id": "58a0e1f6-ff53-40aa-96b1-096ade4bd1c0",
   "metadata": {},
   "outputs": [
    {
     "name": "stdout",
     "output_type": "stream",
     "text": [
      "output/chunk_out\n",
      "output/ededup_out\n"
     ]
    }
   ],
   "source": [
    "## For this stage the input is the folder containing parquet data which is output from the ingest2parquet tool\n",
    "\n",
    "input_folder = chunk_out\n",
    "output_folder = ededup_out\n",
    "\n",
    "print(input_folder)\n",
    "print(output_folder)"
   ]
  },
  {
   "cell_type": "markdown",
   "id": "3661cb37-39c7-4b09-a784-925bfa9eaf1e",
   "metadata": {},
   "source": [
    "### Execute "
   ]
  },
  {
   "cell_type": "code",
   "execution_count": 8,
   "id": "a624b2b2-faad-4325-ac7d-53a840f564ef",
   "metadata": {
    "scrolled": true
   },
   "outputs": [
    {
     "name": "stderr",
     "output_type": "stream",
     "text": [
      "17:18:05 INFO - Running locally\n",
      "17:18:05 INFO - exact dedup params are {'doc_column': 'contents', 'hash_cpu': 0.5, 'num_hashes': 2}\n",
      "17:18:05 INFO - data factory data_ is using local data access: input_folder - output/chunk_out output_folder - output/ededup_out\n",
      "17:18:05 INFO - data factory data_ max_files -1, n_sample -1\n",
      "17:18:05 INFO - data factory data_ Not using data sets, checkpointing False, max files -1, random samples -1, files to use ['.parquet'], files to checkpoint ['.parquet']\n",
      "17:18:05 INFO - pipeline id pipeline_id\n",
      "17:18:05 INFO - code location None\n",
      "17:18:05 INFO - number of workers 3 worker options {'num_cpus': 0.8, 'max_restarts': -1}\n",
      "17:18:05 INFO - actor creation delay 0\n",
      "17:18:05 INFO - job details {'job category': 'preprocessing', 'job name': 'ededup', 'job type': 'ray', 'job id': 'job_id'}\n",
      "2024-07-31 17:18:07,184\tINFO worker.py:1744 -- Started a local Ray instance. View the dashboard at \u001b[1m\u001b[32m127.0.0.1:8265 \u001b[39m\u001b[22m\n",
      "\u001b[36m(orchestrate pid=98943)\u001b[0m 17:18:07 INFO - orchestrator started at 2024-07-31 17:18:07\n",
      "\u001b[36m(orchestrate pid=98943)\u001b[0m 17:18:07 INFO - Number of files is 1, source profile {'max_file_size': 0.04512310028076172, 'min_file_size': 0.04512310028076172, 'total_file_size': 0.04512310028076172}\n",
      "\u001b[36m(orchestrate pid=98943)\u001b[0m 17:18:07 INFO - Cluster resources: {'cpus': 16, 'gpus': 0, 'memory': 34.54946746863425, 'object_store': 2.0}\n",
      "\u001b[36m(orchestrate pid=98943)\u001b[0m 17:18:07 INFO - Number of workers - 3 with {'num_cpus': 0.8, 'max_restarts': -1} each\n",
      "\u001b[36m(orchestrate pid=98943)\u001b[0m 17:18:07 INFO - Completed 0 files (0.0%)  in 3.047784169514974e-06 min. Waiting for completion\n",
      "\u001b[36m(orchestrate pid=98943)\u001b[0m 17:18:08 INFO - Completed processing 1 files in 0.008303900559743246 min\n",
      "\u001b[36m(orchestrate pid=98943)\u001b[0m 17:18:08 INFO - done flushing in 0.0012729167938232422 sec\n",
      "17:18:18 INFO - Completed execution in 0.2139238715171814 min, execution result 0\n"
     ]
    },
    {
     "data": {
      "text/plain": [
       "0"
      ]
     },
     "execution_count": 8,
     "metadata": {},
     "output_type": "execute_result"
    }
   ],
   "source": [
    "# Import ededup transform configuration\n",
    "from ededup_transform_ray import EdedupRayTransformConfiguration\n",
    "\n",
    "\n",
    "# Prepare the commandline params\n",
    "local_conf = {\n",
    "    \"input_folder\": input_folder,\n",
    "    \"output_folder\": output_folder,\n",
    "}\n",
    "worker_options = {\"num_cpus\": 0.8}\n",
    "params = {\n",
    "    # where to run\n",
    "    \"run_locally\": True,\n",
    "    # Data access. Only required parameters are specified\n",
    "    \"data_local_config\": ParamsUtils.convert_to_ast(local_conf),\n",
    "    # orchestrator\n",
    "    \"runtime_worker_options\": ParamsUtils.convert_to_ast(worker_options),\n",
    "    \"runtime_num_workers\": 3,\n",
    "    # ededup parameters\n",
    "    \"ededup_hash_cpu\": 0.5,\n",
    "    \"ededup_num_hashes\": 2,\n",
    "    \"ededup_doc_column\": \"contents\",\n",
    "}\n",
    "\n",
    "# Pass the commandline params\n",
    "sys.argv = ParamsUtils.dict_to_req(d=params)\n",
    "\n",
    "# create launcher\n",
    "launcher = RayTransformLauncher(EdedupRayTransformConfiguration())\n",
    "# launch\n",
    "launcher.launch()"
   ]
  },
  {
   "cell_type": "markdown",
   "id": "f15f4d00-33bb-4d9a-9f34-4d7f3ee0b7bc",
   "metadata": {},
   "source": [
    "## <span style=\"color: green\">  4. DOC ID generation [<-](#top)<a class=\"anchor\" id=\"item4\"></a> </span>\n",
    "\n",
    "This transform annotates documents with document \"ids\". It supports the following transformations of the original data:\n",
    "\n",
    " - Adding document hash: this enables the addition of a document hash-based id to the data. The hash is calculated with `hashlib.sha256(doc.encode(\"utf-8\")).hexdigest()`. To enable this annotation, set hash_column to the name of the column, where you want to store it.\n",
    " - Adding integer document id: this allows the addition of an integer document id to the data that is unique across all rows in all tables provided to the transform() method. To enable this annotation, set int_id_column to the name of the column, where you want to store it. **This is a pre-requisite for fuzzy dedup** in the pipeline."
   ]
  },
  {
   "cell_type": "code",
   "execution_count": 9,
   "id": "e6f62394-fbde-495c-bbbb-83161b006bed",
   "metadata": {},
   "outputs": [
    {
     "name": "stdout",
     "output_type": "stream",
     "text": [
      "output/ededup_out\n",
      "output/doc_id_out\n"
     ]
    }
   ],
   "source": [
    "# Input for this stage is the output of exact dedeup component\n",
    "# output of this component makes it possible for fdedup component to run on data.\n",
    "\n",
    "input_folder = ededup_out\n",
    "output_folder = doc_id_out\n",
    "\n",
    "print(input_folder)\n",
    "print(output_folder)\n"
   ]
  },
  {
   "cell_type": "code",
   "execution_count": 10,
   "id": "a6daf36d-686c-4e0a-aabf-ce55f999bb2d",
   "metadata": {},
   "outputs": [
    {
     "name": "stderr",
     "output_type": "stream",
     "text": [
      "17:18:19 INFO - Running locally\n",
      "17:18:19 INFO - Doc id parameters are : {'doc_column': 'contents', 'hash_column': 'hash_column', 'int_column': 'int_id_column'}\n",
      "17:18:19 INFO - data factory data_ is using local data access: input_folder - output/ededup_out output_folder - output/doc_id_out\n",
      "17:18:19 INFO - data factory data_ max_files -1, n_sample -1\n",
      "17:18:19 INFO - data factory data_ Not using data sets, checkpointing False, max files -1, random samples -1, files to use ['.parquet'], files to checkpoint ['.parquet']\n",
      "17:18:19 INFO - pipeline id pipeline_id\n",
      "17:18:19 INFO - code location None\n",
      "17:18:19 INFO - number of workers 3 worker options {'num_cpus': 0.8, 'max_restarts': -1}\n",
      "17:18:19 INFO - actor creation delay 0\n",
      "17:18:19 INFO - job details {'job category': 'preprocessing', 'job name': 'doc_id', 'job type': 'ray', 'job id': 'job_id'}\n",
      "2024-07-31 17:18:21,364\tINFO worker.py:1744 -- Started a local Ray instance. View the dashboard at \u001b[1m\u001b[32m127.0.0.1:8265 \u001b[39m\u001b[22m\n",
      "\u001b[36m(orchestrate pid=99027)\u001b[0m 17:18:21 INFO - orchestrator started at 2024-07-31 17:18:21\n",
      "\u001b[36m(orchestrate pid=99027)\u001b[0m 17:18:21 INFO - Number of files is 1, source profile {'max_file_size': 0.04512310028076172, 'min_file_size': 0.04512310028076172, 'total_file_size': 0.04512310028076172}\n",
      "\u001b[36m(orchestrate pid=99027)\u001b[0m 17:18:21 INFO - Cluster resources: {'cpus': 16, 'gpus': 0, 'memory': 34.7070663459599, 'object_store': 2.0}\n",
      "\u001b[36m(orchestrate pid=99027)\u001b[0m 17:18:21 INFO - Number of workers - 3 with {'num_cpus': 0.8, 'max_restarts': -1} each\n",
      "\u001b[36m(orchestrate pid=99027)\u001b[0m 17:18:21 INFO - Completed 0 files (0.0%)  in 2.1497408548990887e-06 min. Waiting for completion\n",
      "\u001b[36m(orchestrate pid=99027)\u001b[0m 17:18:22 INFO - Completed processing 1 files in 0.009000436464945475 min\n",
      "\u001b[36m(orchestrate pid=99027)\u001b[0m 17:18:22 INFO - done flushing in 0.0012788772583007812 sec\n",
      "17:18:32 INFO - Completed execution in 0.21371768315633138 min, execution result 0\n"
     ]
    },
    {
     "data": {
      "text/plain": [
       "0"
      ]
     },
     "execution_count": 10,
     "metadata": {},
     "output_type": "execute_result"
    }
   ],
   "source": [
    "from doc_id_transform_ray import DocIDRayTransformConfiguration\n",
    "local_conf = {\n",
    "    \"input_folder\": input_folder,\n",
    "    \"output_folder\": output_folder,\n",
    "}\n",
    "worker_options = {\"num_cpus\": 0.8}\n",
    "params = {\n",
    "    # where to run\n",
    "    \"run_locally\": True,\n",
    "    # Data access. Only required parameters are specified\n",
    "    \"data_local_config\": ParamsUtils.convert_to_ast(local_conf),\n",
    "    # orchestrator\n",
    "    \"runtime_worker_options\": ParamsUtils.convert_to_ast(worker_options),\n",
    "    \"runtime_num_workers\": 3,\n",
    "    # doc id configuration\n",
    "    \"doc_id_doc_column\": \"contents\",\n",
    "    \"doc_id_hash_column\": \"hash_column\",\n",
    "    \"doc_id_int_column\": \"int_id_column\",\n",
    "}\n",
    "sys.argv = ParamsUtils.dict_to_req(d=params)\n",
    "\n",
    "# launch\n",
    "\n",
    "launcher = RayTransformLauncher(DocIDRayTransformConfiguration())\n",
    "launcher.launch()"
   ]
  },
  {
   "cell_type": "markdown",
   "id": "85309751-8556-41c6-ac32-84acc941bc8d",
   "metadata": {},
   "source": [
    "## 5. <span style=\"color: green\">  Fuzzy Dedup [<-](#top)<a class=\"anchor\" id=\"item5\"></a> </span>\n",
    "\n",
    "Post exact deduplication, fuzzy deduplication is applied with\n",
    "the goal of removing code files that may have slight variations and thereby unbiasing\n",
    "the data further. Small variations are quite commonly seen in code data in the form\n",
    "of variations in the values of variables, addittion of logging statements etc. Find near-\n",
    "duplicate."
   ]
  },
  {
   "cell_type": "markdown",
   "id": "fcf574a3-b287-419c-9c86-07b828b41ca6",
   "metadata": {},
   "source": [
    "### Set Input/output Folder"
   ]
  },
  {
   "cell_type": "code",
   "execution_count": 11,
   "id": "9e431c8c-c7c7-48de-ba5f-2c4649c35399",
   "metadata": {},
   "outputs": [
    {
     "name": "stdout",
     "output_type": "stream",
     "text": [
      "output/doc_id_out\n",
      "output/fdedup_out\n"
     ]
    }
   ],
   "source": [
    "## Input to this component is the output of doc_id generator component. \n",
    "\n",
    "input_folder = doc_id_out\n",
    "output_folder = fdedup_out\n",
    "\n",
    "print(input_folder)\n",
    "print(output_folder)"
   ]
  },
  {
   "cell_type": "markdown",
   "id": "f4c82a8f-b513-4fe5-b172-d41b104b54f3",
   "metadata": {},
   "source": [
    "### Execute "
   ]
  },
  {
   "cell_type": "code",
   "execution_count": 12,
   "id": "3864ff77-e9a8-48f7-973b-c3b3aef1a94f",
   "metadata": {},
   "outputs": [
    {
     "name": "stderr",
     "output_type": "stream",
     "text": [
      "17:18:33 INFO - Running locally\n",
      "17:18:33 INFO - fuzzy dedup params are {'doc_column': 'contents', 'id_column': 'int_id_column', 'cluster_column': 'hash_column', 'bucket_cpu': 0.5, 'mhash_cpu': 0.5, 'doc_cpu': 0.5, 'num_doc_actors': 2, 'num_minhash_actors': 1, 'num_bucket_actors': 1, 'num_preprocessors': 2, 'num_permutations': 64, 'threshold': 0.8, 'shingles_size': 5, 'delimiters': ' ', 'snapshot_delay': 1, 'use_bucket_snapshot': False, 'use_doc_snapshot': False, 'random_delay_limit': 10, 'worker_options': {'num_cpus': 0.8}}\n",
      "17:18:33 INFO - data factory data_ is using local data access: input_folder - output/doc_id_out output_folder - output/fdedup_out\n",
      "17:18:33 INFO - data factory data_ max_files -1, n_sample -1\n",
      "17:18:33 INFO - data factory data_ Not using data sets, checkpointing False, max files -1, random samples -1, files to use ['.parquet'], files to checkpoint ['.parquet']\n",
      "17:18:33 INFO - pipeline id pipeline_id\n",
      "17:18:33 INFO - code location None\n",
      "17:18:33 INFO - number of workers 3 worker options {'num_cpus': 0.8, 'max_restarts': -1}\n",
      "17:18:33 INFO - actor creation delay 0\n",
      "17:18:33 INFO - job details {'job category': 'preprocessing', 'job name': 'fdedup', 'job type': 'ray', 'job id': 'job_id'}\n",
      "2024-07-31 17:18:35,563\tINFO worker.py:1744 -- Started a local Ray instance. View the dashboard at \u001b[1m\u001b[32m127.0.0.1:8265 \u001b[39m\u001b[22m\n",
      "\u001b[36m(orchestrate pid=99116)\u001b[0m 17:18:36 INFO - orchestrator started at 2024-07-31 17:18:36\n",
      "\u001b[36m(orchestrate pid=99116)\u001b[0m 17:18:36 INFO - Number of files is 1, source profile {'max_file_size': 0.05397510528564453, 'min_file_size': 0.05397510528564453, 'total_file_size': 0.05397510528564453}\n",
      "\u001b[36m(orchestrate pid=99116)\u001b[0m 17:18:36 INFO - Cluster resources: {'cpus': 16, 'gpus': 0, 'memory': 34.67255554255098, 'object_store': 2.0}\n",
      "\u001b[36m(orchestrate pid=99116)\u001b[0m 17:18:36 INFO - Number of workers - 3 with {'num_cpus': 0.8, 'max_restarts': -1} each\n",
      "\u001b[36m(orchestrate pid=99116)\u001b[0m 17:18:36 INFO - starting run from the beginning\n",
      "\u001b[36m(orchestrate pid=99116)\u001b[0m 17:18:36 INFO - continuing from the very beginning\n",
      "\u001b[36m(orchestrate pid=99116)\u001b[0m 17:18:36 INFO - Fuzzy: num buckets 5, bucket length 11\n",
      "\u001b[36m(orchestrate pid=99116)\u001b[0m 17:18:36 INFO - created 1 bucket actors\n",
      "\u001b[36m(orchestrate pid=99116)\u001b[0m 17:18:36 INFO - created 1 minhash actors\n",
      "\u001b[36m(orchestrate pid=99116)\u001b[0m 17:18:36 INFO - Table preprocessing uses 2 readers\n",
      "\u001b[36m(orchestrate pid=99116)\u001b[0m 17:18:36 INFO - created 2 table processor actors\n",
      "\u001b[36m(orchestrate pid=99116)\u001b[0m 17:18:36 INFO - Completed 0 files (0.0%)  in 2.666314442952474e-06 min. Waiting for completion\n",
      "\u001b[36m(orchestrate pid=99116)\u001b[0m 17:18:44 INFO - Completed processing 1 files in 0.1439379135767619 min\n",
      "\u001b[36m(orchestrate pid=99116)\u001b[0m 17:18:44 INFO - creating minhash snapshots\n",
      "\u001b[36m(orchestrate pid=99116)\u001b[0m 17:18:45 INFO - minhash snapshots created\n",
      "\u001b[36m(orchestrate pid=99116)\u001b[0m 17:18:45 INFO - creating bucket snapshots\n",
      "\u001b[36m(orchestrate pid=99116)\u001b[0m 17:18:46 INFO - bucket snapshots created\n",
      "\u001b[36m(orchestrate pid=99116)\u001b[0m 17:18:46 INFO - created 2 document actors\n",
      "\u001b[36m(orchestrate pid=99116)\u001b[0m 17:18:46 INFO - created 2 bucket processor actors\n",
      "\u001b[36m(orchestrate pid=99116)\u001b[0m 17:18:46 INFO - created bucket processor invoker\n",
      "\u001b[36m(orchestrate pid=99116)\u001b[0m 17:18:46 INFO - added invoker to bucket collectors\n",
      "\u001b[36m(BucketsHash pid=99121)\u001b[0m 17:18:46 INFO - processing buckets 0 long, 1080 short\n",
      "\u001b[36m(BucketsHash pid=99121)\u001b[0m 17:18:46 INFO - Done submitting long buckets\n",
      "\u001b[36m(orchestrate pid=99116)\u001b[0m 17:18:47 INFO - Done processing buckets in 0.007944051424662273 min\n",
      "\u001b[36m(orchestrate pid=99116)\u001b[0m 17:18:47 INFO - creating document snapshots\n",
      "\u001b[36m(BucketsHashProcessorInvoker pid=99168)\u001b[0m 17:18:47 INFO - Waiting bucket processing completion. Submitted requests 11\n",
      "\u001b[36m(orchestrate pid=99116)\u001b[0m 17:18:49 INFO - document snapshots created\n",
      "\u001b[36m(orchestrate pid=99116)\u001b[0m 17:18:49 INFO - Completed 0 files (0.0%)  in 2.197424570719401e-06 min. Waiting for completion\n",
      "\u001b[36m(orchestrate pid=99116)\u001b[0m 17:18:58 INFO - Completed processing 1 files in 0.14431485335032146 min\n",
      "\u001b[36m(orchestrate pid=99116)\u001b[0m 17:18:58 INFO - done flushing in 0.002215862274169922 sec\n",
      "17:19:08 INFO - Completed execution in 0.570045781135559 min, execution result 0\n"
     ]
    },
    {
     "data": {
      "text/plain": [
       "0"
      ]
     },
     "execution_count": 12,
     "metadata": {},
     "output_type": "execute_result"
    }
   ],
   "source": [
    "import os\n",
    "import sys\n",
    "\n",
    "from data_processing.utils import ParamsUtils\n",
    "from fdedup_transform_ray import FdedupRayTransformConfiguration\n",
    "\n",
    "# create parameters\n",
    "\n",
    "local_conf = {\n",
    "    \"input_folder\": input_folder,\n",
    "    \"output_folder\": output_folder,\n",
    "}\n",
    "worker_options = {\"num_cpus\": 0.8}\n",
    "code_location = {\"github\": \"github\", \"commit_hash\": \"12345\", \"path\": \"path\"}\n",
    "params = {\n",
    "    # where to run\n",
    "    \"run_locally\": True,\n",
    "    # Data access. Only required parameters are specified\n",
    "    \"data_local_config\": ParamsUtils.convert_to_ast(local_conf),\n",
    "    # Orchestration parameters\n",
    "    \"runtime_worker_options\": ParamsUtils.convert_to_ast(worker_options),\n",
    "    \"runtime_num_workers\": 3,\n",
    "    # columns used\n",
    "    \"fdedup_doc_column\": \"contents\",\n",
    "    \"fdedup_id_column\": \"int_id_column\",\n",
    "    \"fdedup_cluster_column\": \"hash_column\",\n",
    "    # infrastructure\n",
    "    \"fdedup_bucket_cpu\": 0.5,\n",
    "    \"fdedup_doc_cpu\": 0.5,\n",
    "    \"fdedup_mhash_cpu\": 0.5,\n",
    "    \"fdedup_num_doc_actors\": 2,\n",
    "    \"fdedup_num_bucket_actors\": 1,\n",
    "    \"fdedup_num_minhash_actors\": 1,\n",
    "    \"fdedup_num_preprocessors\": 2,\n",
    "    # fuzzy parameters\n",
    "    \"fdedup_num_permutations\": 64,\n",
    "    \"fdedup_threshold\": 0.8,\n",
    "    \"fdedup_shingles_size\": 5,\n",
    "    \"fdedup_delimiters\": \" \"\n",
    "}\n",
    "\n",
    "# Pass commandline params\n",
    "sys.argv = ParamsUtils.dict_to_req(d=params)\n",
    "\n",
    "# launch\n",
    "\n",
    "launcher = RayTransformLauncher(FdedupRayTransformConfiguration())\n",
    "launcher.launch()"
   ]
  },
  {
   "cell_type": "markdown",
   "id": "49d1d761-62a7-4a12-ad23-b2c268ad8ed2",
   "metadata": {},
   "source": [
    "## <span style=\"color: green\">  6. Language identification [<-](#top)<a class=\"anchor\" id=\"item6\"></a> </span>\n",
    "\n",
    "This transform identifies the language of the document components."
   ]
  },
  {
   "cell_type": "markdown",
   "id": "3db05e1e-4c62-4367-93ca-b2ddff95e4b4",
   "metadata": {},
   "source": [
    "### Set Input/output Folder"
   ]
  },
  {
   "cell_type": "code",
   "execution_count": 13,
   "id": "a8ec4fb6-fa62-45d1-9aa1-596d7182b2c9",
   "metadata": {},
   "outputs": [],
   "source": [
    "\n",
    "input_folder = fdedup_out\n",
    "output_folder = lang_out \n"
   ]
  },
  {
   "cell_type": "markdown",
   "id": "c07e7e5a-064f-4dca-a017-4211f7a3e980",
   "metadata": {},
   "source": [
    "### Execute "
   ]
  },
  {
   "cell_type": "code",
   "execution_count": 14,
   "id": "48dbb2a3-a6f4-4a3d-bb2f-8491fd063611",
   "metadata": {},
   "outputs": [
    {
     "name": "stderr",
     "output_type": "stream",
     "text": [
      "17:19:09 INFO - Running locally\n",
      "17:19:09 INFO - lang_id parameters are : {'model_credential': 'None', 'model_kind': 'fasttext', 'model_url': 'facebook/fasttext-language-identification', 'content_column_name': 'contents', 'output_lang_column_name': 'lang', 'output_score_column_name': 'score'}\n",
      "17:19:09 INFO - data factory data_ is using local data access: input_folder - output/fdedup_out output_folder - output/lang_out\n",
      "17:19:09 INFO - data factory data_ max_files -1, n_sample -1\n",
      "17:19:09 INFO - data factory data_ Not using data sets, checkpointing False, max files -1, random samples -1, files to use ['.parquet'], files to checkpoint ['.parquet']\n",
      "17:19:09 INFO - pipeline id pipeline_id\n",
      "17:19:09 INFO - code location None\n",
      "17:19:09 INFO - number of workers 1 worker options {'num_cpus': 0.8, 'max_restarts': -1}\n",
      "17:19:09 INFO - actor creation delay 0\n",
      "17:19:09 INFO - job details {'job category': 'preprocessing', 'job name': 'lang_id', 'job type': 'ray', 'job id': 'job_id'}\n",
      "2024-07-31 17:19:11,487\tINFO worker.py:1744 -- Started a local Ray instance. View the dashboard at \u001b[1m\u001b[32m127.0.0.1:8265 \u001b[39m\u001b[22m\n",
      "\u001b[36m(orchestrate pid=99302)\u001b[0m 17:19:12 INFO - orchestrator started at 2024-07-31 17:19:12\n",
      "\u001b[36m(orchestrate pid=99302)\u001b[0m 17:19:12 INFO - Number of files is 1, source profile {'max_file_size': 0.04643535614013672, 'min_file_size': 0.04643535614013672, 'total_file_size': 0.04643535614013672}\n",
      "\u001b[36m(orchestrate pid=99302)\u001b[0m 17:19:12 INFO - Cluster resources: {'cpus': 16, 'gpus': 0, 'memory': 34.089291382580996, 'object_store': 2.0}\n",
      "\u001b[36m(orchestrate pid=99302)\u001b[0m 17:19:12 INFO - Number of workers - 1 with {'num_cpus': 0.8, 'max_restarts': -1} each\n",
      "\u001b[36m(orchestrate pid=99302)\u001b[0m 17:19:12 INFO - Completed 0 files (0.0%)  in 2.1497408548990887e-06 min. Waiting for completion\n",
      "\u001b[36m(RayTransformFileProcessor pid=99305)\u001b[0m Warning : `load_model` does not return WordVectorModel or SupervisedModel any more, but a `FastText` object which is very similar.\n",
      "\u001b[36m(orchestrate pid=99302)\u001b[0m 17:19:13 INFO - Completed processing 1 files in 0.026285235087076822 min\n",
      "\u001b[36m(orchestrate pid=99302)\u001b[0m 17:19:13 INFO - done flushing in 0.0004470348358154297 sec\n",
      "17:19:23 INFO - Completed execution in 0.2331423838933309 min, execution result 0\n"
     ]
    },
    {
     "data": {
      "text/plain": [
       "0"
      ]
     },
     "execution_count": 14,
     "metadata": {},
     "output_type": "execute_result"
    }
   ],
   "source": [
    "import os\n",
    "import sys\n",
    "\n",
    "from data_processing.utils import ParamsUtils\n",
    "from lang_id_transform import (\n",
    "    content_column_name_cli_param,\n",
    "    model_credential_cli_param,\n",
    "    model_kind_cli_param,\n",
    "    model_url_cli_param,\n",
    ")\n",
    "from lang_models import KIND_FASTTEXT\n",
    "from lang_id_transform_ray import LangIdentificationRayTransformConfiguration\n",
    "\n",
    "\n",
    "local_conf = {\n",
    "    \"input_folder\": input_folder,\n",
    "    \"output_folder\": output_folder,\n",
    "}\n",
    "worker_options = {\"num_cpus\": 0.8}\n",
    "langid_config = {\n",
    "    model_credential_cli_param: None, #\"PUT YOUR OWN HUGGINGFACE CREDENTIAL\",\n",
    "    model_kind_cli_param: KIND_FASTTEXT,\n",
    "    model_url_cli_param: \"facebook/fasttext-language-identification\",\n",
    "    # content_column_name_cli_param: \"text\",\n",
    "}\n",
    "params = {\n",
    "    # where to run\n",
    "    \"run_locally\": True,\n",
    "    # Data access. Only required parameters are specified\n",
    "    \"data_local_config\": ParamsUtils.convert_to_ast(local_conf),\n",
    "    # orchestrator\n",
    "    \"runtime_worker_options\": ParamsUtils.convert_to_ast(worker_options),\n",
    "    \"runtime_num_workers\": 1,\n",
    "    # language selection specific parameters\n",
    "    **langid_config,\n",
    "}\n",
    "\n",
    "sys.argv = ParamsUtils.dict_to_req(d=params)\n",
    "\n",
    "# create launcher\n",
    "launcher = RayTransformLauncher(LangIdentificationRayTransformConfiguration())\n",
    "launcher.launch()\n"
   ]
  },
  {
   "cell_type": "markdown",
   "id": "0646cbb7-3046-44c0-827d-d102d3ff7cb8",
   "metadata": {},
   "source": [
    "## <span style=\"color: green\">  7. Document Quality [<-](#top)<a class=\"anchor\" id=\"item7\"></a> </span>\n",
    "\n",
    "TBA"
   ]
  },
  {
   "cell_type": "markdown",
   "id": "2e985668-848b-4633-b0d8-9fe70ada0c91",
   "metadata": {},
   "source": [
    "### Set Input/output Folder"
   ]
  },
  {
   "cell_type": "code",
   "execution_count": 15,
   "id": "9f080011-c9fe-430e-9ecc-f2220d2c8d18",
   "metadata": {},
   "outputs": [
    {
     "name": "stdout",
     "output_type": "stream",
     "text": [
      "output/lang_out\n",
      "output/dq_out\n"
     ]
    }
   ],
   "source": [
    "input_folder = lang_out\n",
    "output_folder = dq_out\n",
    "\n",
    "print(input_folder)\n",
    "print(output_folder)"
   ]
  },
  {
   "cell_type": "markdown",
   "id": "c02982c5-f398-4a1a-a9fe-42d7ae748c7c",
   "metadata": {},
   "source": [
    "### Execute "
   ]
  },
  {
   "cell_type": "code",
   "execution_count": 16,
   "id": "29319fb9-b0d8-4f86-9bc5-b92960ad8ae5",
   "metadata": {},
   "outputs": [
    {
     "name": "stderr",
     "output_type": "stream",
     "text": [
      "17:19:25 INFO - Running locally\n",
      "17:19:25 INFO - doc_quality parameters are : {'text_lang': 'en', 'doc_content_column': 'contents', 'bad_word_filepath': '/Users/dol/scratch/dpk-dev/data-prep-kit/transforms/language/doc_quality/python/ldnoobw/en', 's3_cred': None, 'docq_data_factory': <data_processing.data_access.data_access_factory.DataAccessFactory object at 0x38b6df8e0>}\n",
      "17:19:25 INFO - data factory docq_ is using local configuration without input/output path\n",
      "17:19:25 INFO - data factory docq_ max_files -1, n_sample -1\n",
      "17:19:25 INFO - data factory docq_ Not using data sets, checkpointing False, max files -1, random samples -1, files to use ['.parquet'], files to checkpoint ['.parquet']\n",
      "17:19:25 INFO - data factory data_ is using local data access: input_folder - output/lang_out output_folder - output/dq_out\n",
      "17:19:25 INFO - data factory data_ max_files -1, n_sample -1\n",
      "17:19:25 INFO - data factory data_ Not using data sets, checkpointing False, max files -1, random samples -1, files to use ['.parquet'], files to checkpoint ['.parquet']\n",
      "17:19:25 INFO - pipeline id pipeline_id\n",
      "17:19:25 INFO - code location None\n",
      "17:19:25 INFO - number of workers 3 worker options {'num_cpus': 0.8, 'max_restarts': -1}\n",
      "17:19:25 INFO - actor creation delay 0\n",
      "17:19:25 INFO - job details {'job category': 'preprocessing', 'job name': 'docq', 'job type': 'ray', 'job id': 'job_id'}\n",
      "2024-07-31 17:19:26,814\tINFO worker.py:1744 -- Started a local Ray instance. View the dashboard at \u001b[1m\u001b[32m127.0.0.1:8265 \u001b[39m\u001b[22m\n",
      "\u001b[36m(orchestrate pid=99393)\u001b[0m 17:19:27 INFO - orchestrator started at 2024-07-31 17:19:27\n",
      "\u001b[36m(orchestrate pid=99393)\u001b[0m 17:19:27 INFO - Number of files is 1, source profile {'max_file_size': 0.04783439636230469, 'min_file_size': 0.04783439636230469, 'total_file_size': 0.04783439636230469}\n",
      "\u001b[36m(orchestrate pid=99393)\u001b[0m 17:19:27 INFO - Cluster resources: {'cpus': 16, 'gpus': 0, 'memory': 35.6348892217502, 'object_store': 2.0}\n",
      "\u001b[36m(orchestrate pid=99393)\u001b[0m 17:19:27 INFO - Number of workers - 3 with {'num_cpus': 0.8, 'max_restarts': -1} each\n",
      "\u001b[36m(orchestrate pid=99393)\u001b[0m 17:19:27 INFO - Completed 0 files (0.0%)  in 1.8517176310221354e-06 min. Waiting for completion\n",
      "\u001b[36m(RayTransformFileProcessor pid=99400)\u001b[0m 17:19:27 INFO - Load badwords found locally from /Users/dol/scratch/dpk-dev/data-prep-kit/transforms/language/doc_quality/python/ldnoobw/en\n",
      "\u001b[36m(orchestrate pid=99393)\u001b[0m 17:19:28 INFO - Completed processing 1 files in 0.009857388337453206 min\n",
      "\u001b[36m(orchestrate pid=99393)\u001b[0m 17:19:28 INFO - done flushing in 0.0012810230255126953 sec\n",
      "17:19:38 INFO - Completed execution in 0.2157872200012207 min, execution result 0\n",
      "\u001b[36m(RayTransformFileProcessor pid=99399)\u001b[0m 17:19:27 INFO - Load badwords found locally from /Users/dol/scratch/dpk-dev/data-prep-kit/transforms/language/doc_quality/python/ldnoobw/en\u001b[32m [repeated 2x across cluster] (Ray deduplicates logs by default. Set RAY_DEDUP_LOGS=0 to disable log deduplication, or see https://docs.ray.io/en/master/ray-observability/user-guides/configure-logging.html#log-deduplication for more options.)\u001b[0m\n"
     ]
    },
    {
     "data": {
      "text/plain": [
       "0"
      ]
     },
     "execution_count": 16,
     "metadata": {},
     "output_type": "execute_result"
    }
   ],
   "source": [
    "import os\n",
    "import sys\n",
    "from pathlib import Path\n",
    "\n",
    "from doc_quality_transform import (\n",
    "    text_lang_cli_param,\n",
    "    doc_content_column_cli_param,\n",
    "    bad_word_filepath_cli_param,\n",
    ")\n",
    "from doc_quality_transform_ray import DocQualityRayTransformConfiguration\n",
    "from data_processing.utils import ParamsUtils\n",
    "\n",
    "local_conf = {\n",
    "    \"input_folder\": input_folder,\n",
    "    \"output_folder\": output_folder,\n",
    "}\n",
    "\n",
    "doc_quality_basedir = os.path.join(rootdir, \"transforms\", \"language\", \"doc_quality\", \"python\")\n",
    "worker_options = {\"num_cpus\": 0.8}\n",
    "params = {\n",
    "    # where to run\n",
    "    \"run_locally\": True,\n",
    "    # Data access. Only required parameters are specified\n",
    "    \"data_local_config\": ParamsUtils.convert_to_ast(local_conf),\n",
    "    # orchestrator\n",
    "    \"runtime_worker_options\": ParamsUtils.convert_to_ast(worker_options),\n",
    "    \"runtime_num_workers\": 3,\n",
    "    \"runtime_pipeline_id\": \"pipeline_id\",\n",
    "    \"runtime_job_id\": \"job_id\",\n",
    "    \"runtime_creation_delay\": 0,\n",
    "    # doc quality configuration\n",
    "    text_lang_cli_param: \"en\",\n",
    "    doc_content_column_cli_param: \"contents\",\n",
    "    bad_word_filepath_cli_param: os.path.join(doc_quality_basedir, \"ldnoobw\", \"en\"),\n",
    "}\n",
    "\n",
    "\n",
    "Path(output_folder).mkdir(parents=True, exist_ok=True)\n",
    "\n",
    "sys.argv = ParamsUtils.dict_to_req(d=params)\n",
    "\n",
    "# create launcher\n",
    "launcher = RayTransformLauncher(DocQualityRayTransformConfiguration())\n",
    "# launch\n",
    "launcher.launch()"
   ]
  },
  {
   "cell_type": "markdown",
   "id": "5cec9839-13b4-4d32-89c5-38f59c5a89f0",
   "metadata": {},
   "source": [
    "## 8. <span style=\"color: green\">   Filtering [<-](#top)<a class=\"anchor\" id=\"item8\"></a> </span>\n",
    "\n",
    "Filter out documents that do not meet the quality threshold for each annotation. The thresholds are computed based on a distributional\n",
    "analysis as well as manual inspection of samples maintaining the balance between data quality and data volume"
   ]
  },
  {
   "cell_type": "markdown",
   "id": "78c54d69-8aee-4f0f-b74c-35dc0609270f",
   "metadata": {},
   "source": [
    "### Set Input/output Folder"
   ]
  },
  {
   "cell_type": "code",
   "execution_count": 17,
   "id": "a7991811-b19e-43b5-89ac-b24060c0ccfa",
   "metadata": {},
   "outputs": [],
   "source": [
    "input_folder = dq_out\n",
    "output_folder = filter_out"
   ]
  },
  {
   "cell_type": "markdown",
   "id": "c460e05c-aeee-4b53-9dd5-8dfa1afc0ece",
   "metadata": {},
   "source": [
    "### Execute "
   ]
  },
  {
   "cell_type": "code",
   "execution_count": 18,
   "id": "61dea2b0-0e54-4912-8620-886e2b8420ef",
   "metadata": {},
   "outputs": [],
   "source": [
    "import os\n",
    "\n",
    "from data_processing.data_access import DataAccessLocal\n",
    "from filter_transform import (\n",
    "    filter_columns_to_drop_cli_param,\n",
    "    filter_criteria_cli_param,\n",
    "    filter_logical_operator_cli_param,\n",
    ")\n",
    "from filter_transform_ray import FilterRayTransformConfiguration\n",
    "\n",
    "\n",
    "local_conf = {\n",
    "    \"input_folder\": input_folder,\n",
    "    \"output_folder\": output_folder,\n",
    "}\n",
    "\n",
    "# TODO\n",
    "# - decide which rules to apply for filtering\n",
    "\n",
    "\n",
    "# This is just an example criteria to filter\n",
    "filter_criteria = [\n",
    "    \"total_num_lines > 10 AND total_num_lines < 90\",\n",
    "    \"lang_selected = 1\",\n",
    "]\n",
    "filter_logical_operator = \"AND\"\n",
    "filter_columns_to_drop = [\"lang_selected\", \"hash_column\"]\n",
    "\n",
    "filter_params = {\n",
    "    filter_criteria_cli_param: filter_criteria,\n",
    "    filter_columns_to_drop_cli_param: filter_columns_to_drop,\n",
    "    filter_logical_operator_cli_param: filter_logical_operator,\n",
    "}\n",
    "\n",
    "worker_options = {\"num_cpus\": 0.8}\n",
    "launcher_params = {\n",
    "    # where to run\n",
    "    \"run_locally\": True,\n",
    "    # Data access. Only required parameters are specified\n",
    "    \"data_local_config\": ParamsUtils.convert_to_ast(local_conf),\n",
    "    # orchestrator\n",
    "    \"runtime_worker_options\": ParamsUtils.convert_to_ast(worker_options),\n",
    "    \"runtime_num_workers\": 5,\n",
    "}\n",
    "\n",
    "\n",
    "sys.argv = ParamsUtils.dict_to_req(launcher_params | filter_params)\n",
    "# Create the longer to launch with the blocklist transform.\n",
    "launcher = RayTransformLauncher(FilterRayTransformConfiguration())\n",
    "# Launch the ray actor(s) to process the input\n",
    "# launcher.launch()"
   ]
  },
  {
   "cell_type": "markdown",
   "id": "5370950a-2a3a-4143-8218-f9b4808099ba",
   "metadata": {},
   "source": [
    "## 9. <span style=\"color: green\">  Text encoding [<-](#top)<a class=\"anchor\" id=\"item9\"></a> </span>\n",
    "\n",
    "Encode text for the vector storage."
   ]
  },
  {
   "cell_type": "code",
   "execution_count": 19,
   "id": "20a153fa-fd56-401e-86be-4f7617affcc8",
   "metadata": {},
   "outputs": [],
   "source": [
    "# input_folder = filter_out\n",
    "input_folder = dq_out\n",
    "output_folder = encoder_out"
   ]
  },
  {
   "cell_type": "code",
   "execution_count": 20,
   "id": "228df6b2-bc62-494b-9697-03ece98d7853",
   "metadata": {},
   "outputs": [
    {
     "name": "stderr",
     "output_type": "stream",
     "text": [
      "17:19:40 INFO - Running locally\n",
      "17:19:40 INFO - text_encoder parameters are : {'content_column_name': 'contents', 'output_embeddings_column_name': 'embeddings', 'model_name': 'BAAI/bge-small-en-v1.5'}\n",
      "17:19:40 INFO - data factory data_ is using local data access: input_folder - output/dq_out output_folder - output/encoder_out\n",
      "17:19:40 INFO - data factory data_ max_files -1, n_sample -1\n",
      "17:19:40 INFO - data factory data_ Not using data sets, checkpointing False, max files -1, random samples -1, files to use ['.parquet'], files to checkpoint ['.parquet']\n",
      "17:19:40 INFO - pipeline id pipeline_id\n",
      "17:19:40 INFO - code location None\n",
      "17:19:40 INFO - number of workers 2 worker options {'num_cpus': 0.8, 'max_restarts': -1}\n",
      "17:19:40 INFO - actor creation delay 0\n",
      "17:19:40 INFO - job details {'job category': 'preprocessing', 'job name': 'text_encoder', 'job type': 'ray', 'job id': 'job_id'}\n",
      "2024-07-31 17:19:42,211\tINFO worker.py:1744 -- Started a local Ray instance. View the dashboard at \u001b[1m\u001b[32m127.0.0.1:8265 \u001b[39m\u001b[22m\n",
      "\u001b[36m(orchestrate pid=99483)\u001b[0m 17:19:44 INFO - orchestrator started at 2024-07-31 17:19:44\n",
      "\u001b[36m(orchestrate pid=99483)\u001b[0m 17:19:44 INFO - Number of files is 1, source profile {'max_file_size': 0.05544853210449219, 'min_file_size': 0.05544853210449219, 'total_file_size': 0.05544853210449219}\n",
      "\u001b[36m(orchestrate pid=99483)\u001b[0m 17:19:44 INFO - Cluster resources: {'cpus': 16, 'gpus': 0, 'memory': 34.719618225470185, 'object_store': 2.0}\n",
      "\u001b[36m(orchestrate pid=99483)\u001b[0m 17:19:44 INFO - Number of workers - 2 with {'num_cpus': 0.8, 'max_restarts': -1} each\n",
      "\u001b[36m(orchestrate pid=99483)\u001b[0m 17:19:44 INFO - Completed 0 files (0.0%)  in 2.968311309814453e-06 min. Waiting for completion\n",
      "\u001b[36m(orchestrate pid=99483)\u001b[0m 17:19:56 INFO - Completed processing 1 files in 0.20590876738230388 min\n",
      "\u001b[36m(orchestrate pid=99483)\u001b[0m 17:19:56 INFO - done flushing in 0.001220703125 sec\n",
      "\u001b[36m(RayTransformFileProcessor pid=99495)\u001b[0m /opt/homebrew/Cellar/python@3.10/3.10.14_1/Frameworks/Python.framework/Versions/3.10/lib/python3.10/multiprocessing/resource_tracker.py:224: UserWarning: resource_tracker: There appear to be 1 leaked semaphore objects to clean up at shutdown\n",
      "\u001b[36m(RayTransformFileProcessor pid=99495)\u001b[0m   warnings.warn('resource_tracker: There appear to be %d '\n",
      "17:20:06 INFO - Completed execution in 0.4356376846631368 min, execution result 0\n",
      "\u001b[36m(RayTransformFileProcessor pid=99496)\u001b[0m /opt/homebrew/Cellar/python@3.10/3.10.14_1/Frameworks/Python.framework/Versions/3.10/lib/python3.10/multiprocessing/resource_tracker.py:224: UserWarning: resource_tracker: There appear to be 1 leaked semaphore objects to clean up at shutdown\n",
      "\u001b[36m(RayTransformFileProcessor pid=99496)\u001b[0m   warnings.warn('resource_tracker: There appear to be %d '\n"
     ]
    },
    {
     "data": {
      "text/plain": [
       "0"
      ]
     },
     "execution_count": 20,
     "metadata": {},
     "output_type": "execute_result"
    }
   ],
   "source": [
    "from text_encoder_transform_ray import TextEncoderRayTransformConfiguration\n",
    "\n",
    "local_conf = {\n",
    "    \"input_folder\": input_folder,\n",
    "    \"output_folder\": output_folder,\n",
    "}\n",
    "worker_options = {\"num_cpus\": 0.8}\n",
    "params = {\n",
    "    # where to run\n",
    "    \"run_locally\": True,\n",
    "    # Data access. Only required parameters are specified\n",
    "    \"data_local_config\": ParamsUtils.convert_to_ast(local_conf),\n",
    "    # orchestrator\n",
    "    \"runtime_worker_options\": ParamsUtils.convert_to_ast(worker_options),\n",
    "    \"runtime_num_workers\": 2,\n",
    "    # text_encoder\n",
    "    \"text_encoder_model_name\": \"BAAI/bge-small-en-v1.5\",\n",
    "}\n",
    "\n",
    "sys.argv = ParamsUtils.dict_to_req(d=params)\n",
    "# create launcher\n",
    "launcher = RayTransformLauncher(TextEncoderRayTransformConfiguration())\n",
    "# Launch the ray actor(s) to process the input\n",
    "launcher.launch()\n"
   ]
  },
  {
   "cell_type": "code",
   "execution_count": null,
   "id": "aaca103c-b5a6-48aa-adbb-2f77b4af9299",
   "metadata": {},
   "outputs": [],
   "source": []
  }
 ],
 "metadata": {
  "kernelspec": {
   "display_name": "Python 3 (ipykernel)",
   "language": "python",
   "name": "python3"
  },
  "language_info": {
   "codemirror_mode": {
    "name": "ipython",
    "version": 3
   },
   "file_extension": ".py",
   "mimetype": "text/x-python",
   "name": "python",
   "nbconvert_exporter": "python",
   "pygments_lexer": "ipython3",
   "version": "3.10.14"
  }
 },
 "nbformat": 4,
 "nbformat_minor": 5
}
